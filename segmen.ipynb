{
  "nbformat": 4,
  "nbformat_minor": 0,
  "metadata": {
    "colab": {
      "name": "segmen.ipynb",
      "provenance": [],
      "collapsed_sections": []
    },
    "kernelspec": {
      "name": "python3",
      "display_name": "Python 3"
    },
    "accelerator": "GPU"
  },
  "cells": [
    {
      "cell_type": "code",
      "metadata": {
        "id": "1FSWBf_ipFHc",
        "colab_type": "code",
        "colab": {
          "base_uri": "https://localhost:8080/",
          "height": 54
        },
        "outputId": "34e36a5e-f6bc-4686-d1a5-79412ee0344e"
      },
      "source": [
        "from google.colab import drive\n",
        "drive.mount('/content/drive')"
      ],
      "execution_count": null,
      "outputs": [
        {
          "output_type": "stream",
          "text": [
            "Drive already mounted at /content/drive; to attempt to forcibly remount, call drive.mount(\"/content/drive\", force_remount=True).\n"
          ],
          "name": "stdout"
        }
      ]
    },
    {
      "cell_type": "code",
      "metadata": {
        "id": "KFLEgYKqpQun",
        "colab_type": "code",
        "colab": {}
      },
      "source": [
        "import os\n",
        "os.chdir(\"/content/drive/My Drive\")"
      ],
      "execution_count": null,
      "outputs": []
    },
    {
      "cell_type": "markdown",
      "metadata": {
        "id": "aJD29n5dXFXC",
        "colab_type": "text"
      },
      "source": [
        "# **Preprocess**\n",
        "1.   Picture format conversion (any format to png)"
      ]
    },
    {
      "cell_type": "code",
      "metadata": {
        "id": "3olJrHtlz8hH",
        "colab_type": "code",
        "colab": {}
      },
      "source": [
        "import os\n",
        "from PIL import Image\n",
        "\n",
        "def bmpToPng(file_path,new_file_path):\n",
        "    for fileName in os.listdir(file_path):\n",
        "        # print(fileName)\n",
        "        newFileName = fileName[0:fileName.find(\".\")]+\".png\"\n",
        "        im = Image.open(file_path+\"/\"+fileName)\n",
        "        im.save(new_file_path+\"/\"+newFileName)\n",
        "\n",
        "file_path = \"./data/refuge2/test/disc_small/mask_copy\"\n",
        "new_file_path = \"./data/refuge2/test/disc_small/mask\"\n",
        "bmpToPng(file_path,new_file_path)"
      ],
      "execution_count": null,
      "outputs": []
    },
    {
      "cell_type": "markdown",
      "metadata": {
        "id": "ZtA5wD_TXqDA",
        "colab_type": "text"
      },
      "source": [
        "\n",
        "2.   Resize (512*512)\n",
        "\n"
      ]
    },
    {
      "cell_type": "code",
      "metadata": {
        "id": "nNHUL0wE7_EB",
        "colab_type": "code",
        "colab": {
          "base_uri": "https://localhost:8080/",
          "height": 34
        },
        "outputId": "cbbdbc09-de0e-423e-b49b-7d4109e96361"
      },
      "source": [
        "from PIL import Image\n",
        "import os.path\n",
        "import glob\n",
        "def convert(file,outdir,width=512,height=512):\n",
        "    img=Image.open(file)\n",
        "    try:\n",
        "        new_img=img.resize((width,height),Image.BILINEAR)   \n",
        "        new_img.save(os.path.join(outdir,os.path.basename(file)))\n",
        "    except Exception as e:\n",
        "        print(e)\n",
        "for file in glob.glob(\"./data/test/images_ROI/*.png\"):\n",
        "    print(file)\n",
        "    convert(file,\"./data/test/images/\")"
      ],
      "execution_count": null,
      "outputs": [
        {
          "output_type": "stream",
          "text": [
            "./data/test/images_ROI/ROI.png\n"
          ],
          "name": "stdout"
        }
      ]
    },
    {
      "cell_type": "markdown",
      "metadata": {
        "id": "N8TBIjMHX7Ob",
        "colab_type": "text"
      },
      "source": [
        "# **Install segmentation models**"
      ]
    },
    {
      "cell_type": "code",
      "metadata": {
        "id": "Y0t2Ytm9rjhI",
        "colab_type": "code",
        "colab": {
          "base_uri": "https://localhost:8080/",
          "height": 367
        },
        "outputId": "32c91b00-64b9-4ca7-a0eb-d8e98856d2a4"
      },
      "source": [
        "!pip install segmentation-models"
      ],
      "execution_count": null,
      "outputs": [
        {
          "output_type": "stream",
          "text": [
            "Requirement already satisfied: segmentation-models in /usr/local/lib/python3.6/dist-packages (1.0.1)\n",
            "Requirement already satisfied: keras-applications<=1.0.8,>=1.0.7 in /usr/local/lib/python3.6/dist-packages (from segmentation-models) (1.0.8)\n",
            "Requirement already satisfied: efficientnet==1.0.0 in /usr/local/lib/python3.6/dist-packages (from segmentation-models) (1.0.0)\n",
            "Requirement already satisfied: image-classifiers==1.0.0 in /usr/local/lib/python3.6/dist-packages (from segmentation-models) (1.0.0)\n",
            "Requirement already satisfied: numpy>=1.9.1 in /usr/local/lib/python3.6/dist-packages (from keras-applications<=1.0.8,>=1.0.7->segmentation-models) (1.18.5)\n",
            "Requirement already satisfied: h5py in /usr/local/lib/python3.6/dist-packages (from keras-applications<=1.0.8,>=1.0.7->segmentation-models) (2.10.0)\n",
            "Requirement already satisfied: scikit-image in /usr/local/lib/python3.6/dist-packages (from efficientnet==1.0.0->segmentation-models) (0.16.2)\n",
            "Requirement already satisfied: six in /usr/local/lib/python3.6/dist-packages (from h5py->keras-applications<=1.0.8,>=1.0.7->segmentation-models) (1.12.0)\n",
            "Requirement already satisfied: PyWavelets>=0.4.0 in /usr/local/lib/python3.6/dist-packages (from scikit-image->efficientnet==1.0.0->segmentation-models) (1.1.1)\n",
            "Requirement already satisfied: imageio>=2.3.0 in /usr/local/lib/python3.6/dist-packages (from scikit-image->efficientnet==1.0.0->segmentation-models) (2.4.1)\n",
            "Requirement already satisfied: networkx>=2.0 in /usr/local/lib/python3.6/dist-packages (from scikit-image->efficientnet==1.0.0->segmentation-models) (2.4)\n",
            "Requirement already satisfied: pillow>=4.3.0 in /usr/local/lib/python3.6/dist-packages (from scikit-image->efficientnet==1.0.0->segmentation-models) (7.0.0)\n",
            "Requirement already satisfied: scipy>=0.19.0 in /usr/local/lib/python3.6/dist-packages (from scikit-image->efficientnet==1.0.0->segmentation-models) (1.4.1)\n",
            "Requirement already satisfied: matplotlib!=3.0.0,>=2.0.0 in /usr/local/lib/python3.6/dist-packages (from scikit-image->efficientnet==1.0.0->segmentation-models) (3.2.2)\n",
            "Requirement already satisfied: decorator>=4.3.0 in /usr/local/lib/python3.6/dist-packages (from networkx>=2.0->scikit-image->efficientnet==1.0.0->segmentation-models) (4.4.2)\n",
            "Requirement already satisfied: python-dateutil>=2.1 in /usr/local/lib/python3.6/dist-packages (from matplotlib!=3.0.0,>=2.0.0->scikit-image->efficientnet==1.0.0->segmentation-models) (2.8.1)\n",
            "Requirement already satisfied: pyparsing!=2.0.4,!=2.1.2,!=2.1.6,>=2.0.1 in /usr/local/lib/python3.6/dist-packages (from matplotlib!=3.0.0,>=2.0.0->scikit-image->efficientnet==1.0.0->segmentation-models) (2.4.7)\n",
            "Requirement already satisfied: cycler>=0.10 in /usr/local/lib/python3.6/dist-packages (from matplotlib!=3.0.0,>=2.0.0->scikit-image->efficientnet==1.0.0->segmentation-models) (0.10.0)\n",
            "Requirement already satisfied: kiwisolver>=1.0.1 in /usr/local/lib/python3.6/dist-packages (from matplotlib!=3.0.0,>=2.0.0->scikit-image->efficientnet==1.0.0->segmentation-models) (1.2.0)\n"
          ],
          "name": "stdout"
        }
      ]
    },
    {
      "cell_type": "markdown",
      "metadata": {
        "id": "ZBARLH_NYRjr",
        "colab_type": "text"
      },
      "source": [
        "# **Train** \n",
        "\n",
        "*   Train set: REFUGE train set + validation set\n",
        "*   Validation set: REFUGE test set\n",
        "*   Weight path: ./weight_1.hdf5\n",
        "*   Backbone: resnet34\n",
        "*   Optimizer = Adam(lr = 1e-4)\n",
        "*   Loss: binary_crossentropy\n",
        "*   Epochs: 100\n",
        "*   Batch_size = 10\n",
        "\n",
        "\n"
      ]
    },
    {
      "cell_type": "code",
      "metadata": {
        "id": "yhw0qQqQs3ia",
        "colab_type": "code",
        "colab": {
          "base_uri": "https://localhost:8080/",
          "height": 1000
        },
        "outputId": "fdfef189-db1a-403b-ac24-1c1aa6c1e860"
      },
      "source": [
        "from segmentation_models import Unet\n",
        "from segmentation_models import get_preprocessing\n",
        "from segmentation_models.losses import bce_jaccard_loss\n",
        "from segmentation_models.metrics import iou_score\n",
        "import os\n",
        "import cv2\n",
        "import segmentation_models as sm\n",
        "import tensorflow as tf\n",
        "import keras\n",
        "import numpy as np\n",
        "from keras.optimizers import adam\n",
        "MAX_EPOCHS = 100\n",
        "\n",
        "BACKBONE = 'resnet34'\n",
        "preprocess_input = sm.get_preprocessing(BACKBONE)\n",
        "\n",
        "class Data_Gen(keras.utils.Sequence):\n",
        "\n",
        "  def __init__(self, batch_size, x_set, y_set):\n",
        "      self.x, self.y = np.array(x_set), np.array(y_set)\n",
        "      self.batch_size = batch_size\n",
        "      #self.indices=np.arange(len(x_set))\n",
        "      self.indices = np.arange(self.x.shape[0])\n",
        "      np.random.shuffle(self.indices)\n",
        "      #self.type = type\n",
        "      #self.preproc = preproc\n",
        "\n",
        "  def __len__(self):\n",
        "      # print(self.type + ' - len : ' + str(int(np.ceil(self.x.shape[0] / self.batch_size))))\n",
        "      return int(np.ceil(self.x.shape[0] / self.batch_size))\n",
        "\n",
        "  def __getitem__(self, idx):\n",
        "      #inds = self.indices[idx * self.batch_size:(idx + 1) * self.batch_size]\n",
        "      upper_bound = len(self.indices) if ((idx + 1) * self.batch_size) > len(self.indices)  else (idx + 1) * self.batch_size    \n",
        "      inds = self.indices[idx * self.batch_size:upper_bound]\n",
        "      batch_x = np.empty((len(inds),512,512,3))    \n",
        "      batch_y = np.empty((len(inds),512,512,1))\n",
        "      for i in range(len(inds)):\n",
        "        image_x = cv2.imread(self.x[inds[i]])\n",
        "        cv2.normalize(image_x,image_x,alpha = 0,beta = 1,norm_type = cv2.NORM_MINMAX,dtype = cv2.CV_32F)\n",
        "        batch_x[i] = cv2.cvtColor(image_x,cv2.COLOR_BGR2RGB)  \n",
        "        if mask_y is not None:\n",
        "          mask_y = cv2.imread(self.y[inds[i]],cv2.IMREAD_GRAYSCALE)/255 \n",
        "        else:\n",
        "          print(self.y[inds[i]])\n",
        "        mask_y = np.expand_dims(mask_y, axis=2)\n",
        "        #cv2.normalize(mask_y,mask_y,alpha = 0,beta = 1,norm_type = cv2.NORM_MINMAX,dtype = cv2.CV_32F)\n",
        "        # y = cv2.imread(self.y[inds[i]],cv2.IMREAD_GRAYSCALE)\n",
        "        # y = np.reshape(y, (-1,1))\n",
        "        batch_y[i] = mask_y\n",
        "      return batch_x, batch_y\n",
        "\n",
        "  def on_epoch_end(self):\n",
        "      np.random.shuffle(self.indices)\n",
        "\n",
        "\n",
        "images_dir = os.path.join('./data/train/', 'image')\n",
        "masks_dir = os.path.join('./data/train/', 'label')\n",
        "ids = os.listdir(images_dir)\n",
        "images_fps  = [os.path.join(images_dir, image_id) for image_id in ids]\n",
        "print(images_fps)\n",
        "masks_fps = [os.path.join(masks_dir, mask_id) for mask_id in ids]\n",
        "print(masks_fps)\n",
        "\n",
        "test_images_dir = os.path.join('./data/val/', 'image')\n",
        "test_masks_dir = os.path.join('./data/val/', 'mask')\n",
        "ids = os.listdir(test_images_dir)\n",
        "test_images_fps  = [os.path.join(test_images_dir, image_id) for image_id in ids]\n",
        "print(test_images_fps)\n",
        "test_masks_fps = [os.path.join(test_masks_dir, mask_id) for mask_id in ids]\n",
        "print(test_masks_fps)\n",
        "\n",
        "opt = adam(lr = 1e-4)\n",
        "model = Unet(BACKBONE, encoder_weights='imagenet')\n",
        "#model.compile('Adam','mse')\n",
        "model.compile(optimizer = opt, loss = 'binary_crossentropy', metrics = ['accuracy'])\n",
        "#model.compile(\n",
        "#    'Adam',\n",
        "#    loss=sm.losses.bce_jaccard_loss,\n",
        "#    metrics=[sm.metrics.iou_score],\n",
        "#)\n",
        "\n",
        "batch_size = 10\n",
        "#preproc = preprocess_input\n",
        "\n",
        "train_gen = Data_Gen(batch_size, images_fps, masks_fps)\n",
        "dev_gen = Data_Gen(batch_size, test_images_fps,test_masks_fps)\n",
        "\n",
        "model_checkpoint = keras.callbacks.ModelCheckpoint('weight_1.hdf5', monitor=\"val_loss\", mode=\"min\", verbose=1, save_best_only=True)\n",
        "model.fit_generator(train_gen,epochs=MAX_EPOCHS,validation_data=dev_gen,callbacks=[model_checkpoint])"
      ],
      "execution_count": null,
      "outputs": [
        {
          "output_type": "stream",
          "text": [
            "Using TensorFlow backend.\n"
          ],
          "name": "stderr"
        },
        {
          "output_type": "stream",
          "text": [
            "Segmentation Models: using `keras` framework.\n",
            "['./data/train/image/g0001.png', './data/train/image/g0004.png', './data/train/image/g0003.png', './data/train/image/g0002.png', './data/train/image/g0005.png', './data/train/image/g0006.png', './data/train/image/g0007.png', './data/train/image/g0008.png', './data/train/image/g0012.png', './data/train/image/g0010.png', './data/train/image/g0009.png', './data/train/image/g0011.png', './data/train/image/g0014.png', './data/train/image/g0015.png', './data/train/image/g0013.png', './data/train/image/g0019.png', './data/train/image/g0016.png', './data/train/image/g0017.png', './data/train/image/g0018.png', './data/train/image/g0022.png', './data/train/image/g0021.png', './data/train/image/g0020.png', './data/train/image/g0023.png', './data/train/image/g0024.png', './data/train/image/g0026.png', './data/train/image/g0025.png', './data/train/image/g0030.png', './data/train/image/g0029.png', './data/train/image/g0027.png', './data/train/image/g0028.png', './data/train/image/g0033.png', './data/train/image/g0034.png', './data/train/image/g0031.png', './data/train/image/g0032.png', './data/train/image/g0035.png', './data/train/image/g0037.png', './data/train/image/g0036.png', './data/train/image/g0038.png', './data/train/image/g0040.png', './data/train/image/n0001.png', './data/train/image/g0039.png', './data/train/image/n0002.png', './data/train/image/n0005.png', './data/train/image/n0003.png', './data/train/image/n0004.png', './data/train/image/n0006.png', './data/train/image/n0008.png', './data/train/image/n0007.png', './data/train/image/n0009.png', './data/train/image/n0013.png', './data/train/image/n0010.png', './data/train/image/n0011.png', './data/train/image/n0012.png', './data/train/image/n0015.png', './data/train/image/n0014.png', './data/train/image/n0016.png', './data/train/image/n0019.png', './data/train/image/n0017.png', './data/train/image/n0020.png', './data/train/image/n0018.png', './data/train/image/n0023.png', './data/train/image/n0021.png', './data/train/image/n0024.png', './data/train/image/n0022.png', './data/train/image/n0025.png', './data/train/image/n0026.png', './data/train/image/n0027.png', './data/train/image/n0030.png', './data/train/image/n0028.png', './data/train/image/n0031.png', './data/train/image/n0029.png', './data/train/image/n0033.png', './data/train/image/n0032.png', './data/train/image/n0035.png', './data/train/image/n0034.png', './data/train/image/n0038.png', './data/train/image/n0036.png', './data/train/image/n0039.png', './data/train/image/n0037.png', './data/train/image/n0041.png', './data/train/image/n0042.png', './data/train/image/n0040.png', './data/train/image/n0043.png', './data/train/image/n0046.png', './data/train/image/n0044.png', './data/train/image/n0045.png', './data/train/image/n0048.png', './data/train/image/n0049.png', './data/train/image/n0050.png', './data/train/image/n0047.png', './data/train/image/n0054.png', './data/train/image/n0051.png', './data/train/image/n0053.png', './data/train/image/n0052.png', './data/train/image/n0057.png', './data/train/image/n0055.png', './data/train/image/n0056.png', './data/train/image/n0059.png', './data/train/image/n0061.png', './data/train/image/n0058.png', './data/train/image/n0060.png', './data/train/image/n0064.png', './data/train/image/n0062.png', './data/train/image/n0065.png', './data/train/image/n0063.png', './data/train/image/n0067.png', './data/train/image/n0066.png', './data/train/image/n0068.png', './data/train/image/n0069.png', './data/train/image/n0071.png', './data/train/image/n0072.png', './data/train/image/n0073.png', './data/train/image/n0074.png', './data/train/image/n0076.png', './data/train/image/n0075.png', './data/train/image/n0079.png', './data/train/image/n0078.png', './data/train/image/n0077.png', './data/train/image/n0081.png', './data/train/image/n0082.png', './data/train/image/n0083.png', './data/train/image/n0080.png', './data/train/image/n0087.png', './data/train/image/n0084.png', './data/train/image/n0086.png', './data/train/image/n0085.png', './data/train/image/n0090.png', './data/train/image/n0088.png', './data/train/image/n0089.png', './data/train/image/n0091.png', './data/train/image/n0094.png', './data/train/image/n0092.png', './data/train/image/n0093.png', './data/train/image/n0095.png', './data/train/image/n0098.png', './data/train/image/n0096.png', './data/train/image/n0097.png', './data/train/image/n0102.png', './data/train/image/n0100.png', './data/train/image/n0101.png', './data/train/image/n0099.png', './data/train/image/n0104.png', './data/train/image/n0106.png', './data/train/image/n0103.png', './data/train/image/n0105.png', './data/train/image/n0109.png', './data/train/image/n0107.png', './data/train/image/n0108.png', './data/train/image/n0110.png', './data/train/image/n0112.png', './data/train/image/n0111.png', './data/train/image/n0113.png', './data/train/image/n0115.png', './data/train/image/n0114.png', './data/train/image/n0116.png', './data/train/image/n0117.png', './data/train/image/n0119.png', './data/train/image/n0118.png', './data/train/image/n0120.png', './data/train/image/n0124.png', './data/train/image/n0121.png', './data/train/image/n0122.png', './data/train/image/n0123.png', './data/train/image/n0127.png', './data/train/image/n0128.png', './data/train/image/n0125.png', './data/train/image/n0126.png', './data/train/image/n0131.png', './data/train/image/n0129.png', './data/train/image/n0132.png', './data/train/image/n0130.png', './data/train/image/n0136.png', './data/train/image/n0135.png', './data/train/image/n0133.png', './data/train/image/n0134.png', './data/train/image/n0138.png', './data/train/image/n0139.png', './data/train/image/n0137.png', './data/train/image/n0143.png', './data/train/image/n0141.png', './data/train/image/n0142.png', './data/train/image/n0140.png', './data/train/image/n0144.png', './data/train/image/n0147.png', './data/train/image/n0145.png', './data/train/image/n0146.png', './data/train/image/n0151.png', './data/train/image/n0150.png', './data/train/image/n0149.png', './data/train/image/n0148.png', './data/train/image/n0152.png', './data/train/image/n0154.png', './data/train/image/n0155.png', './data/train/image/n0153.png', './data/train/image/n0156.png', './data/train/image/n0157.png', './data/train/image/n0158.png', './data/train/image/n0159.png', './data/train/image/n0161.png', './data/train/image/n0160.png', './data/train/image/n0162.png', './data/train/image/n0165.png', './data/train/image/n0166.png', './data/train/image/n0164.png', './data/train/image/n0163.png', './data/train/image/n0167.png', './data/train/image/n0168.png', './data/train/image/n0170.png', './data/train/image/n0169.png', './data/train/image/n0173.png', './data/train/image/n0171.png', './data/train/image/n0172.png', './data/train/image/n0177.png', './data/train/image/n0176.png', './data/train/image/n0174.png', './data/train/image/n0175.png', './data/train/image/n0181.png', './data/train/image/n0178.png', './data/train/image/n0179.png', './data/train/image/n0180.png', './data/train/image/n0184.png', './data/train/image/n0183.png', './data/train/image/n0182.png', './data/train/image/n0185.png', './data/train/image/n0188.png', './data/train/image/n0186.png', './data/train/image/n0187.png', './data/train/image/n0191.png', './data/train/image/n0189.png', './data/train/image/n0190.png', './data/train/image/n0192.png', './data/train/image/n0193.png', './data/train/image/n0194.png', './data/train/image/n0195.png', './data/train/image/n0196.png', './data/train/image/n0197.png', './data/train/image/n0200.png', './data/train/image/n0198.png', './data/train/image/n0199.png', './data/train/image/n0203.png', './data/train/image/n0202.png', './data/train/image/n0201.png', './data/train/image/n0207.png', './data/train/image/n0206.png', './data/train/image/n0204.png', './data/train/image/n0205.png', './data/train/image/n0211.png', './data/train/image/n0210.png', './data/train/image/n0208.png', './data/train/image/n0209.png', './data/train/image/n0215.png', './data/train/image/n0214.png', './data/train/image/n0212.png', './data/train/image/n0213.png', './data/train/image/n0218.png', './data/train/image/n0217.png', './data/train/image/n0216.png', './data/train/image/n0220.png', './data/train/image/n0219.png', './data/train/image/n0222.png', './data/train/image/n0221.png', './data/train/image/n0224.png', './data/train/image/n0223.png', './data/train/image/n0225.png', './data/train/image/n0226.png', './data/train/image/n0230.png', './data/train/image/n0229.png', './data/train/image/n0227.png', './data/train/image/n0228.png', './data/train/image/n0231.png', './data/train/image/n0233.png', './data/train/image/n0232.png', './data/train/image/n0235.png', './data/train/image/n0236.png', './data/train/image/n0234.png', './data/train/image/n0237.png', './data/train/image/n0240.png', './data/train/image/n0239.png', './data/train/image/n0238.png', './data/train/image/n0241.png', './data/train/image/n0242.png', './data/train/image/n0244.png', './data/train/image/n0243.png', './data/train/image/n0248.png', './data/train/image/n0245.png', './data/train/image/n0247.png', './data/train/image/n0246.png', './data/train/image/n0252.png', './data/train/image/n0250.png', './data/train/image/n0249.png', './data/train/image/n0251.png', './data/train/image/n0255.png', './data/train/image/n0254.png', './data/train/image/n0253.png', './data/train/image/n0259.png', './data/train/image/n0256.png', './data/train/image/n0257.png', './data/train/image/n0258.png', './data/train/image/n0263.png', './data/train/image/n0260.png', './data/train/image/n0261.png', './data/train/image/n0262.png', './data/train/image/n0265.png', './data/train/image/n0266.png', './data/train/image/n0264.png', './data/train/image/n0268.png', './data/train/image/n0269.png', './data/train/image/n0267.png', './data/train/image/n0270.png', './data/train/image/n0274.png', './data/train/image/n0273.png', './data/train/image/n0271.png', './data/train/image/n0272.png', './data/train/image/n0278.png', './data/train/image/n0277.png', './data/train/image/n0275.png', './data/train/image/n0276.png', './data/train/image/n0280.png', './data/train/image/n0281.png', './data/train/image/n0279.png', './data/train/image/n0282.png', './data/train/image/n0284.png', './data/train/image/n0285.png', './data/train/image/n0283.png', './data/train/image/n0288.png', './data/train/image/n0289.png', './data/train/image/n0286.png', './data/train/image/n0287.png', './data/train/image/n0292.png', './data/train/image/n0290.png', './data/train/image/n0293.png', './data/train/image/n0291.png', './data/train/image/n0294.png', './data/train/image/n0295.png', './data/train/image/n0296.png', './data/train/image/n0299.png', './data/train/image/n0298.png', './data/train/image/n0300.png', './data/train/image/n0297.png', './data/train/image/n0302.png', './data/train/image/n0304.png', './data/train/image/n0303.png', './data/train/image/n0301.png', './data/train/image/n0305.png', './data/train/image/n0307.png', './data/train/image/n0308.png', './data/train/image/n0306.png', './data/train/image/n0310.png', './data/train/image/n0311.png', './data/train/image/n0309.png', './data/train/image/n0313.png', './data/train/image/n0314.png', './data/train/image/n0315.png', './data/train/image/n0312.png', './data/train/image/n0316.png', './data/train/image/n0319.png', './data/train/image/n0317.png', './data/train/image/n0318.png', './data/train/image/n0321.png', './data/train/image/n0320.png', './data/train/image/n0322.png', './data/train/image/n0323.png', './data/train/image/n0325.png', './data/train/image/n0324.png', './data/train/image/n0326.png', './data/train/image/n0330.png', './data/train/image/n0327.png', './data/train/image/n0329.png', './data/train/image/n0328.png', './data/train/image/n0333.png', './data/train/image/n0331.png', './data/train/image/n0334.png', './data/train/image/n0332.png', './data/train/image/n0336.png', './data/train/image/n0337.png', './data/train/image/n0335.png', './data/train/image/n0339.png', './data/train/image/n0338.png', './data/train/image/n0340.png', './data/train/image/n0341.png', './data/train/image/n0343.png', './data/train/image/n0344.png', './data/train/image/n0345.png', './data/train/image/n0342.png', './data/train/image/n0348.png', './data/train/image/n0347.png', './data/train/image/n0346.png', './data/train/image/n0349.png', './data/train/image/n0352.png', './data/train/image/n0350.png', './data/train/image/n0353.png', './data/train/image/n0351.png', './data/train/image/n0355.png', './data/train/image/n0354.png', './data/train/image/n0356.png', './data/train/image/n0357.png', './data/train/image/n0360.png', './data/train/image/n0359.png', './data/train/image/n0358.png', './data/train/image/n0070.png', './data/train/image/V0333.png', './data/train/image/V0286.png', './data/train/image/V0214.png', './data/train/image/V0010.png', './data/train/image/V0160.png', './data/train/image/V0125.png', './data/train/image/V0192.png', './data/train/image/V0252.png', './data/train/image/V0065.png', './data/train/image/V0003.png', './data/train/image/V0319.png', './data/train/image/V0273.png', './data/train/image/V0143.png', './data/train/image/V0381.png', './data/train/image/V0318.png', './data/train/image/V0285.png', './data/train/image/V0011.png', './data/train/image/V0167.png', './data/train/image/V0077.png', './data/train/image/V0080.png', './data/train/image/V0370.png', './data/train/image/V0137.png', './data/train/image/V0287.png', './data/train/image/V0263.png', './data/train/image/V0245.png', './data/train/image/V0212.png', './data/train/image/V0356.png', './data/train/image/V0028.png', './data/train/image/V0026.png', './data/train/image/V0294.png', './data/train/image/V0089.png', './data/train/image/V0295.png', './data/train/image/V0068.png', './data/train/image/V0198.png', './data/train/image/V0303.png', './data/train/image/V0232.png', './data/train/image/V0293.png', './data/train/image/V0331.png', './data/train/image/V0023.png', './data/train/image/V0107.png', './data/train/image/V0079.png', './data/train/image/V0246.png', './data/train/image/V0117.png', './data/train/image/V0291.png', './data/train/image/V0378.png', './data/train/image/V0163.png', './data/train/image/V0336.png', './data/train/image/V0024.png', './data/train/image/V0240.png', './data/train/image/V0292.png', './data/train/image/V0209.png', './data/train/image/V0174.png', './data/train/image/V0326.png', './data/train/image/V0355.png', './data/train/image/V0060.png', './data/train/image/V0299.png', './data/train/image/V0177.png', './data/train/image/V0152.png', './data/train/image/V0069.png', './data/train/image/V0235.png', './data/train/image/V0229.png', './data/train/image/V0088.png', './data/train/image/V0257.png', './data/train/image/V0389.png', './data/train/image/V0384.png', './data/train/image/V0115.png', './data/train/image/V0375.png', './data/train/image/V0382.png', './data/train/image/V0220.png', './data/train/image/V0008.png', './data/train/image/V0281.png', './data/train/image/V0335.png', './data/train/image/V0179.png', './data/train/image/V0250.png', './data/train/image/V0300.png', './data/train/image/V0096.png', './data/train/image/V0195.png', './data/train/image/V0172.png', './data/train/image/V0121.png', './data/train/image/V0153.png', './data/train/image/V0129.png', './data/train/image/V0033.png', './data/train/image/V0367.png', './data/train/image/V0020.png', './data/train/image/V0176.png', './data/train/image/V0114.png', './data/train/image/V0364.png', './data/train/image/V0072.png', './data/train/image/V0217.png', './data/train/image/V0308.png', './data/train/image/V0015.png', './data/train/image/V0002.png', './data/train/image/V0056.png', './data/train/image/V0051.png', './data/train/image/V0397.png', './data/train/image/V0395.png', './data/train/image/V0180.png', './data/train/image/V0340.png', './data/train/image/V0164.png', './data/train/image/V0017.png', './data/train/image/V0223.png', './data/train/image/V0025.png', './data/train/image/V0275.png', './data/train/image/V0199.png', './data/train/image/V0239.png', './data/train/image/V0130.png', './data/train/image/V0066.png', './data/train/image/V0373.png', './data/train/image/V0039.png', './data/train/image/V0059.png', './data/train/image/V0316.png', './data/train/image/V0085.png', './data/train/image/V0337.png', './data/train/image/V0216.png', './data/train/image/V0140.png', './data/train/image/V0354.png', './data/train/image/V0376.png', './data/train/image/V0111.png', './data/train/image/V0171.png', './data/train/image/V0049.png', './data/train/image/V0219.png', './data/train/image/V0278.png', './data/train/image/V0269.png', './data/train/image/V0361.png', './data/train/image/V0168.png', './data/train/image/V0145.png', './data/train/image/V0050.png', './data/train/image/V0159.png', './data/train/image/V0385.png', './data/train/image/V0053.png', './data/train/image/V0222.png', './data/train/image/V0035.png', './data/train/image/V0136.png', './data/train/image/V0046.png', './data/train/image/V0261.png', './data/train/image/V0268.png', './data/train/image/V0280.png', './data/train/image/V0342.png', './data/train/image/V0183.png', './data/train/image/V0274.png', './data/train/image/V0282.png', './data/train/image/V0377.png', './data/train/image/V0248.png', './data/train/image/V0036.png', './data/train/image/V0185.png', './data/train/image/V0131.png', './data/train/image/V0004.png', './data/train/image/V0044.png', './data/train/image/V0187.png', './data/train/image/V0158.png', './data/train/image/V0366.png', './data/train/image/V0226.png', './data/train/image/V0247.png', './data/train/image/V0103.png', './data/train/image/V0150.png', './data/train/image/V0205.png', './data/train/image/V0234.png', './data/train/image/V0116.png', './data/train/image/V0215.png', './data/train/image/V0098.png', './data/train/image/V0169.png', './data/train/image/V0067.png', './data/train/image/V0173.png', './data/train/image/V0332.png', './data/train/image/V0202.png', './data/train/image/V0040.png', './data/train/image/V0276.png', './data/train/image/V0365.png', './data/train/image/V0071.png', './data/train/image/V0151.png', './data/train/image/V0029.png', './data/train/image/V0388.png', './data/train/image/V0034.png', './data/train/image/V0182.png', './data/train/image/V0359.png', './data/train/image/V0264.png', './data/train/image/V0101.png', './data/train/image/V0272.png', './data/train/image/V0283.png', './data/train/image/V0369.png', './data/train/image/V0302.png', './data/train/image/V0100.png', './data/train/image/V0154.png', './data/train/image/V0345.png', './data/train/image/V0270.png', './data/train/image/V0383.png', './data/train/image/V0052.png', './data/train/image/V0106.png', './data/train/image/V0297.png', './data/train/image/V0208.png', './data/train/image/V0086.png', './data/train/image/V0313.png', './data/train/image/V0224.png', './data/train/image/V0058.png', './data/train/image/V0110.png', './data/train/image/V0207.png', './data/train/image/V0221.png', './data/train/image/V0095.png', './data/train/image/V0334.png', './data/train/image/V0055.png', './data/train/image/V0128.png', './data/train/image/V0124.png', './data/train/image/V0398.png', './data/train/image/V0119.png', './data/train/image/V0148.png', './data/train/image/V0258.png', './data/train/image/V0343.png', './data/train/image/V0230.png', './data/train/image/V0249.png', './data/train/image/V0243.png', './data/train/image/V0083.png', './data/train/image/V0386.png', './data/train/image/V0084.png', './data/train/image/V0149.png', './data/train/image/V0030.png', './data/train/image/V0097.png', './data/train/image/V0362.png', './data/train/image/V0175.png', './data/train/image/V0327.png', './data/train/image/V0218.png', './data/train/image/V0339.png', './data/train/image/V0396.png', './data/train/image/V0186.png', './data/train/image/V0309.png', './data/train/image/V0201.png', './data/train/image/V0042.png', './data/train/image/V0330.png', './data/train/image/V0233.png', './data/train/image/V0162.png', './data/train/image/V0006.png', './data/train/image/V0271.png', './data/train/image/V0310.png', './data/train/image/V0298.png', './data/train/image/V0225.png', './data/train/image/V0031.png', './data/train/image/V0374.png', './data/train/image/V0132.png', './data/train/image/V0213.png', './data/train/image/V0043.png', './data/train/image/V0317.png', './data/train/image/V0091.png', './data/train/image/V0325.png', './data/train/image/V0363.png', './data/train/image/V0227.png', './data/train/image/V0312.png', './data/train/image/V0242.png', './data/train/image/V0260.png', './data/train/image/V0400.png', './data/train/image/V0181.png', './data/train/image/V0347.png', './data/train/image/V0392.png', './data/train/image/V0147.png', './data/train/image/V0329.png', './data/train/image/V0200.png', './data/train/image/V0237.png', './data/train/image/V0048.png', './data/train/image/V0296.png', './data/train/image/V0197.png', './data/train/image/V0012.png', './data/train/image/V0146.png', './data/train/image/V0122.png', './data/train/image/V0231.png', './data/train/image/V0005.png', './data/train/image/V0194.png', './data/train/image/V0267.png', './data/train/image/V0390.png', './data/train/image/V0380.png', './data/train/image/V0322.png', './data/train/image/V0251.png', './data/train/image/V0092.png', './data/train/image/V0094.png', './data/train/image/V0063.png', './data/train/image/V0262.png', './data/train/image/V0315.png', './data/train/image/V0032.png', './data/train/image/V0178.png', './data/train/image/V0387.png', './data/train/image/V0007.png', './data/train/image/V0279.png', './data/train/image/V0238.png', './data/train/image/V0138.png', './data/train/image/V0357.png', './data/train/image/V0341.png', './data/train/image/V0371.png', './data/train/image/V0014.png', './data/train/image/V0073.png', './data/train/image/V0047.png', './data/train/image/V0062.png', './data/train/image/V0358.png', './data/train/image/V0236.png', './data/train/image/V0348.png', './data/train/image/V0391.png', './data/train/image/V0134.png', './data/train/image/V0013.png', './data/train/image/V0206.png', './data/train/image/V0323.png', './data/train/image/V0112.png', './data/train/image/V0284.png', './data/train/image/V0184.png', './data/train/image/V0105.png', './data/train/image/V0076.png', './data/train/image/V0057.png', './data/train/image/V0113.png', './data/train/image/V0394.png', './data/train/image/V0104.png', './data/train/image/V0021.png', './data/train/image/V0090.png', './data/train/image/V0338.png', './data/train/image/V0123.png', './data/train/image/V0041.png', './data/train/image/V0344.png', './data/train/image/V0022.png', './data/train/image/V0127.png', './data/train/image/V0241.png', './data/train/image/V0266.png', './data/train/image/V0368.png', './data/train/image/V0301.png', './data/train/image/V0349.png', './data/train/image/V0170.png', './data/train/image/V0191.png', './data/train/image/V0165.png', './data/train/image/V0087.png', './data/train/image/V0064.png', './data/train/image/V0307.png', './data/train/image/V0135.png', './data/train/image/V0211.png', './data/train/image/V0228.png', './data/train/image/V0314.png', './data/train/image/V0108.png', './data/train/image/V0203.png', './data/train/image/V0081.png', './data/train/image/V0393.png', './data/train/image/V0399.png', './data/train/image/V0351.png', './data/train/image/V0054.png', './data/train/image/V0350.png', './data/train/image/V0075.png', './data/train/image/V0144.png', './data/train/image/V0099.png', './data/train/image/V0204.png', './data/train/image/V0253.png', './data/train/image/V0156.png', './data/train/image/V0346.png', './data/train/image/V0254.png', './data/train/image/V0133.png', './data/train/image/V0277.png', './data/train/image/V0016.png', './data/train/image/V0379.png', './data/train/image/V0009.png', './data/train/image/V0321.png', './data/train/image/V0166.png', './data/train/image/V0082.png', './data/train/image/V0328.png', './data/train/image/V0360.png', './data/train/image/V0155.png', './data/train/image/V0305.png', './data/train/image/V0142.png', './data/train/image/V0045.png', './data/train/image/V0102.png', './data/train/image/V0018.png', './data/train/image/V0304.png', './data/train/image/V0189.png', './data/train/image/V0353.png', './data/train/image/V0078.png', './data/train/image/V0244.png', './data/train/image/V0255.png', './data/train/image/V0188.png', './data/train/image/V0157.png', './data/train/image/V0141.png', './data/train/image/V0001.png', './data/train/image/V0372.png', './data/train/image/V0289.png', './data/train/image/V0210.png', './data/train/image/V0288.png', './data/train/image/V0061.png', './data/train/image/V0320.png', './data/train/image/V0290.png', './data/train/image/V0265.png', './data/train/image/V0259.png', './data/train/image/V0193.png', './data/train/image/V0311.png', './data/train/image/V0352.png', './data/train/image/V0027.png', './data/train/image/V0120.png', './data/train/image/V0306.png', './data/train/image/V0019.png', './data/train/image/V0109.png', './data/train/image/V0070.png', './data/train/image/V0196.png', './data/train/image/V0139.png', './data/train/image/V0118.png', './data/train/image/V0038.png', './data/train/image/V0324.png', './data/train/image/V0037.png', './data/train/image/V0161.png', './data/train/image/V0256.png', './data/train/image/V0126.png', './data/train/image/V0074.png', './data/train/image/V0190.png', './data/train/image/V0093.png']\n",
            "['./data/train/label/g0001.png', './data/train/label/g0004.png', './data/train/label/g0003.png', './data/train/label/g0002.png', './data/train/label/g0005.png', './data/train/label/g0006.png', './data/train/label/g0007.png', './data/train/label/g0008.png', './data/train/label/g0012.png', './data/train/label/g0010.png', './data/train/label/g0009.png', './data/train/label/g0011.png', './data/train/label/g0014.png', './data/train/label/g0015.png', './data/train/label/g0013.png', './data/train/label/g0019.png', './data/train/label/g0016.png', './data/train/label/g0017.png', './data/train/label/g0018.png', './data/train/label/g0022.png', './data/train/label/g0021.png', './data/train/label/g0020.png', './data/train/label/g0023.png', './data/train/label/g0024.png', './data/train/label/g0026.png', './data/train/label/g0025.png', './data/train/label/g0030.png', './data/train/label/g0029.png', './data/train/label/g0027.png', './data/train/label/g0028.png', './data/train/label/g0033.png', './data/train/label/g0034.png', './data/train/label/g0031.png', './data/train/label/g0032.png', './data/train/label/g0035.png', './data/train/label/g0037.png', './data/train/label/g0036.png', './data/train/label/g0038.png', './data/train/label/g0040.png', './data/train/label/n0001.png', './data/train/label/g0039.png', './data/train/label/n0002.png', './data/train/label/n0005.png', './data/train/label/n0003.png', './data/train/label/n0004.png', './data/train/label/n0006.png', './data/train/label/n0008.png', './data/train/label/n0007.png', './data/train/label/n0009.png', './data/train/label/n0013.png', './data/train/label/n0010.png', './data/train/label/n0011.png', './data/train/label/n0012.png', './data/train/label/n0015.png', './data/train/label/n0014.png', './data/train/label/n0016.png', './data/train/label/n0019.png', './data/train/label/n0017.png', './data/train/label/n0020.png', './data/train/label/n0018.png', './data/train/label/n0023.png', './data/train/label/n0021.png', './data/train/label/n0024.png', './data/train/label/n0022.png', './data/train/label/n0025.png', './data/train/label/n0026.png', './data/train/label/n0027.png', './data/train/label/n0030.png', './data/train/label/n0028.png', './data/train/label/n0031.png', './data/train/label/n0029.png', './data/train/label/n0033.png', './data/train/label/n0032.png', './data/train/label/n0035.png', './data/train/label/n0034.png', './data/train/label/n0038.png', './data/train/label/n0036.png', './data/train/label/n0039.png', './data/train/label/n0037.png', './data/train/label/n0041.png', './data/train/label/n0042.png', './data/train/label/n0040.png', './data/train/label/n0043.png', './data/train/label/n0046.png', './data/train/label/n0044.png', './data/train/label/n0045.png', './data/train/label/n0048.png', './data/train/label/n0049.png', './data/train/label/n0050.png', './data/train/label/n0047.png', './data/train/label/n0054.png', './data/train/label/n0051.png', './data/train/label/n0053.png', './data/train/label/n0052.png', './data/train/label/n0057.png', './data/train/label/n0055.png', './data/train/label/n0056.png', './data/train/label/n0059.png', './data/train/label/n0061.png', './data/train/label/n0058.png', './data/train/label/n0060.png', './data/train/label/n0064.png', './data/train/label/n0062.png', './data/train/label/n0065.png', './data/train/label/n0063.png', './data/train/label/n0067.png', './data/train/label/n0066.png', './data/train/label/n0068.png', './data/train/label/n0069.png', './data/train/label/n0071.png', './data/train/label/n0072.png', './data/train/label/n0073.png', './data/train/label/n0074.png', './data/train/label/n0076.png', './data/train/label/n0075.png', './data/train/label/n0079.png', './data/train/label/n0078.png', './data/train/label/n0077.png', './data/train/label/n0081.png', './data/train/label/n0082.png', './data/train/label/n0083.png', './data/train/label/n0080.png', './data/train/label/n0087.png', './data/train/label/n0084.png', './data/train/label/n0086.png', './data/train/label/n0085.png', './data/train/label/n0090.png', './data/train/label/n0088.png', './data/train/label/n0089.png', './data/train/label/n0091.png', './data/train/label/n0094.png', './data/train/label/n0092.png', './data/train/label/n0093.png', './data/train/label/n0095.png', './data/train/label/n0098.png', './data/train/label/n0096.png', './data/train/label/n0097.png', './data/train/label/n0102.png', './data/train/label/n0100.png', './data/train/label/n0101.png', './data/train/label/n0099.png', './data/train/label/n0104.png', './data/train/label/n0106.png', './data/train/label/n0103.png', './data/train/label/n0105.png', './data/train/label/n0109.png', './data/train/label/n0107.png', './data/train/label/n0108.png', './data/train/label/n0110.png', './data/train/label/n0112.png', './data/train/label/n0111.png', './data/train/label/n0113.png', './data/train/label/n0115.png', './data/train/label/n0114.png', './data/train/label/n0116.png', './data/train/label/n0117.png', './data/train/label/n0119.png', './data/train/label/n0118.png', './data/train/label/n0120.png', './data/train/label/n0124.png', './data/train/label/n0121.png', './data/train/label/n0122.png', './data/train/label/n0123.png', './data/train/label/n0127.png', './data/train/label/n0128.png', './data/train/label/n0125.png', './data/train/label/n0126.png', './data/train/label/n0131.png', './data/train/label/n0129.png', './data/train/label/n0132.png', './data/train/label/n0130.png', './data/train/label/n0136.png', './data/train/label/n0135.png', './data/train/label/n0133.png', './data/train/label/n0134.png', './data/train/label/n0138.png', './data/train/label/n0139.png', './data/train/label/n0137.png', './data/train/label/n0143.png', './data/train/label/n0141.png', './data/train/label/n0142.png', './data/train/label/n0140.png', './data/train/label/n0144.png', './data/train/label/n0147.png', './data/train/label/n0145.png', './data/train/label/n0146.png', './data/train/label/n0151.png', './data/train/label/n0150.png', './data/train/label/n0149.png', './data/train/label/n0148.png', './data/train/label/n0152.png', './data/train/label/n0154.png', './data/train/label/n0155.png', './data/train/label/n0153.png', './data/train/label/n0156.png', './data/train/label/n0157.png', './data/train/label/n0158.png', './data/train/label/n0159.png', './data/train/label/n0161.png', './data/train/label/n0160.png', './data/train/label/n0162.png', './data/train/label/n0165.png', './data/train/label/n0166.png', './data/train/label/n0164.png', './data/train/label/n0163.png', './data/train/label/n0167.png', './data/train/label/n0168.png', './data/train/label/n0170.png', './data/train/label/n0169.png', './data/train/label/n0173.png', './data/train/label/n0171.png', './data/train/label/n0172.png', './data/train/label/n0177.png', './data/train/label/n0176.png', './data/train/label/n0174.png', './data/train/label/n0175.png', './data/train/label/n0181.png', './data/train/label/n0178.png', './data/train/label/n0179.png', './data/train/label/n0180.png', './data/train/label/n0184.png', './data/train/label/n0183.png', './data/train/label/n0182.png', './data/train/label/n0185.png', './data/train/label/n0188.png', './data/train/label/n0186.png', './data/train/label/n0187.png', './data/train/label/n0191.png', './data/train/label/n0189.png', './data/train/label/n0190.png', './data/train/label/n0192.png', './data/train/label/n0193.png', './data/train/label/n0194.png', './data/train/label/n0195.png', './data/train/label/n0196.png', './data/train/label/n0197.png', './data/train/label/n0200.png', './data/train/label/n0198.png', './data/train/label/n0199.png', './data/train/label/n0203.png', './data/train/label/n0202.png', './data/train/label/n0201.png', './data/train/label/n0207.png', './data/train/label/n0206.png', './data/train/label/n0204.png', './data/train/label/n0205.png', './data/train/label/n0211.png', './data/train/label/n0210.png', './data/train/label/n0208.png', './data/train/label/n0209.png', './data/train/label/n0215.png', './data/train/label/n0214.png', './data/train/label/n0212.png', './data/train/label/n0213.png', './data/train/label/n0218.png', './data/train/label/n0217.png', './data/train/label/n0216.png', './data/train/label/n0220.png', './data/train/label/n0219.png', './data/train/label/n0222.png', './data/train/label/n0221.png', './data/train/label/n0224.png', './data/train/label/n0223.png', './data/train/label/n0225.png', './data/train/label/n0226.png', './data/train/label/n0230.png', './data/train/label/n0229.png', './data/train/label/n0227.png', './data/train/label/n0228.png', './data/train/label/n0231.png', './data/train/label/n0233.png', './data/train/label/n0232.png', './data/train/label/n0235.png', './data/train/label/n0236.png', './data/train/label/n0234.png', './data/train/label/n0237.png', './data/train/label/n0240.png', './data/train/label/n0239.png', './data/train/label/n0238.png', './data/train/label/n0241.png', './data/train/label/n0242.png', './data/train/label/n0244.png', './data/train/label/n0243.png', './data/train/label/n0248.png', './data/train/label/n0245.png', './data/train/label/n0247.png', './data/train/label/n0246.png', './data/train/label/n0252.png', './data/train/label/n0250.png', './data/train/label/n0249.png', './data/train/label/n0251.png', './data/train/label/n0255.png', './data/train/label/n0254.png', './data/train/label/n0253.png', './data/train/label/n0259.png', './data/train/label/n0256.png', './data/train/label/n0257.png', './data/train/label/n0258.png', './data/train/label/n0263.png', './data/train/label/n0260.png', './data/train/label/n0261.png', './data/train/label/n0262.png', './data/train/label/n0265.png', './data/train/label/n0266.png', './data/train/label/n0264.png', './data/train/label/n0268.png', './data/train/label/n0269.png', './data/train/label/n0267.png', './data/train/label/n0270.png', './data/train/label/n0274.png', './data/train/label/n0273.png', './data/train/label/n0271.png', './data/train/label/n0272.png', './data/train/label/n0278.png', './data/train/label/n0277.png', './data/train/label/n0275.png', './data/train/label/n0276.png', './data/train/label/n0280.png', './data/train/label/n0281.png', './data/train/label/n0279.png', './data/train/label/n0282.png', './data/train/label/n0284.png', './data/train/label/n0285.png', './data/train/label/n0283.png', './data/train/label/n0288.png', './data/train/label/n0289.png', './data/train/label/n0286.png', './data/train/label/n0287.png', './data/train/label/n0292.png', './data/train/label/n0290.png', './data/train/label/n0293.png', './data/train/label/n0291.png', './data/train/label/n0294.png', './data/train/label/n0295.png', './data/train/label/n0296.png', './data/train/label/n0299.png', './data/train/label/n0298.png', './data/train/label/n0300.png', './data/train/label/n0297.png', './data/train/label/n0302.png', './data/train/label/n0304.png', './data/train/label/n0303.png', './data/train/label/n0301.png', './data/train/label/n0305.png', './data/train/label/n0307.png', './data/train/label/n0308.png', './data/train/label/n0306.png', './data/train/label/n0310.png', './data/train/label/n0311.png', './data/train/label/n0309.png', './data/train/label/n0313.png', './data/train/label/n0314.png', './data/train/label/n0315.png', './data/train/label/n0312.png', './data/train/label/n0316.png', './data/train/label/n0319.png', './data/train/label/n0317.png', './data/train/label/n0318.png', './data/train/label/n0321.png', './data/train/label/n0320.png', './data/train/label/n0322.png', './data/train/label/n0323.png', './data/train/label/n0325.png', './data/train/label/n0324.png', './data/train/label/n0326.png', './data/train/label/n0330.png', './data/train/label/n0327.png', './data/train/label/n0329.png', './data/train/label/n0328.png', './data/train/label/n0333.png', './data/train/label/n0331.png', './data/train/label/n0334.png', './data/train/label/n0332.png', './data/train/label/n0336.png', './data/train/label/n0337.png', './data/train/label/n0335.png', './data/train/label/n0339.png', './data/train/label/n0338.png', './data/train/label/n0340.png', './data/train/label/n0341.png', './data/train/label/n0343.png', './data/train/label/n0344.png', './data/train/label/n0345.png', './data/train/label/n0342.png', './data/train/label/n0348.png', './data/train/label/n0347.png', './data/train/label/n0346.png', './data/train/label/n0349.png', './data/train/label/n0352.png', './data/train/label/n0350.png', './data/train/label/n0353.png', './data/train/label/n0351.png', './data/train/label/n0355.png', './data/train/label/n0354.png', './data/train/label/n0356.png', './data/train/label/n0357.png', './data/train/label/n0360.png', './data/train/label/n0359.png', './data/train/label/n0358.png', './data/train/label/n0070.png', './data/train/label/V0333.png', './data/train/label/V0286.png', './data/train/label/V0214.png', './data/train/label/V0010.png', './data/train/label/V0160.png', './data/train/label/V0125.png', './data/train/label/V0192.png', './data/train/label/V0252.png', './data/train/label/V0065.png', './data/train/label/V0003.png', './data/train/label/V0319.png', './data/train/label/V0273.png', './data/train/label/V0143.png', './data/train/label/V0381.png', './data/train/label/V0318.png', './data/train/label/V0285.png', './data/train/label/V0011.png', './data/train/label/V0167.png', './data/train/label/V0077.png', './data/train/label/V0080.png', './data/train/label/V0370.png', './data/train/label/V0137.png', './data/train/label/V0287.png', './data/train/label/V0263.png', './data/train/label/V0245.png', './data/train/label/V0212.png', './data/train/label/V0356.png', './data/train/label/V0028.png', './data/train/label/V0026.png', './data/train/label/V0294.png', './data/train/label/V0089.png', './data/train/label/V0295.png', './data/train/label/V0068.png', './data/train/label/V0198.png', './data/train/label/V0303.png', './data/train/label/V0232.png', './data/train/label/V0293.png', './data/train/label/V0331.png', './data/train/label/V0023.png', './data/train/label/V0107.png', './data/train/label/V0079.png', './data/train/label/V0246.png', './data/train/label/V0117.png', './data/train/label/V0291.png', './data/train/label/V0378.png', './data/train/label/V0163.png', './data/train/label/V0336.png', './data/train/label/V0024.png', './data/train/label/V0240.png', './data/train/label/V0292.png', './data/train/label/V0209.png', './data/train/label/V0174.png', './data/train/label/V0326.png', './data/train/label/V0355.png', './data/train/label/V0060.png', './data/train/label/V0299.png', './data/train/label/V0177.png', './data/train/label/V0152.png', './data/train/label/V0069.png', './data/train/label/V0235.png', './data/train/label/V0229.png', './data/train/label/V0088.png', './data/train/label/V0257.png', './data/train/label/V0389.png', './data/train/label/V0384.png', './data/train/label/V0115.png', './data/train/label/V0375.png', './data/train/label/V0382.png', './data/train/label/V0220.png', './data/train/label/V0008.png', './data/train/label/V0281.png', './data/train/label/V0335.png', './data/train/label/V0179.png', './data/train/label/V0250.png', './data/train/label/V0300.png', './data/train/label/V0096.png', './data/train/label/V0195.png', './data/train/label/V0172.png', './data/train/label/V0121.png', './data/train/label/V0153.png', './data/train/label/V0129.png', './data/train/label/V0033.png', './data/train/label/V0367.png', './data/train/label/V0020.png', './data/train/label/V0176.png', './data/train/label/V0114.png', './data/train/label/V0364.png', './data/train/label/V0072.png', './data/train/label/V0217.png', './data/train/label/V0308.png', './data/train/label/V0015.png', './data/train/label/V0002.png', './data/train/label/V0056.png', './data/train/label/V0051.png', './data/train/label/V0397.png', './data/train/label/V0395.png', './data/train/label/V0180.png', './data/train/label/V0340.png', './data/train/label/V0164.png', './data/train/label/V0017.png', './data/train/label/V0223.png', './data/train/label/V0025.png', './data/train/label/V0275.png', './data/train/label/V0199.png', './data/train/label/V0239.png', './data/train/label/V0130.png', './data/train/label/V0066.png', './data/train/label/V0373.png', './data/train/label/V0039.png', './data/train/label/V0059.png', './data/train/label/V0316.png', './data/train/label/V0085.png', './data/train/label/V0337.png', './data/train/label/V0216.png', './data/train/label/V0140.png', './data/train/label/V0354.png', './data/train/label/V0376.png', './data/train/label/V0111.png', './data/train/label/V0171.png', './data/train/label/V0049.png', './data/train/label/V0219.png', './data/train/label/V0278.png', './data/train/label/V0269.png', './data/train/label/V0361.png', './data/train/label/V0168.png', './data/train/label/V0145.png', './data/train/label/V0050.png', './data/train/label/V0159.png', './data/train/label/V0385.png', './data/train/label/V0053.png', './data/train/label/V0222.png', './data/train/label/V0035.png', './data/train/label/V0136.png', './data/train/label/V0046.png', './data/train/label/V0261.png', './data/train/label/V0268.png', './data/train/label/V0280.png', './data/train/label/V0342.png', './data/train/label/V0183.png', './data/train/label/V0274.png', './data/train/label/V0282.png', './data/train/label/V0377.png', './data/train/label/V0248.png', './data/train/label/V0036.png', './data/train/label/V0185.png', './data/train/label/V0131.png', './data/train/label/V0004.png', './data/train/label/V0044.png', './data/train/label/V0187.png', './data/train/label/V0158.png', './data/train/label/V0366.png', './data/train/label/V0226.png', './data/train/label/V0247.png', './data/train/label/V0103.png', './data/train/label/V0150.png', './data/train/label/V0205.png', './data/train/label/V0234.png', './data/train/label/V0116.png', './data/train/label/V0215.png', './data/train/label/V0098.png', './data/train/label/V0169.png', './data/train/label/V0067.png', './data/train/label/V0173.png', './data/train/label/V0332.png', './data/train/label/V0202.png', './data/train/label/V0040.png', './data/train/label/V0276.png', './data/train/label/V0365.png', './data/train/label/V0071.png', './data/train/label/V0151.png', './data/train/label/V0029.png', './data/train/label/V0388.png', './data/train/label/V0034.png', './data/train/label/V0182.png', './data/train/label/V0359.png', './data/train/label/V0264.png', './data/train/label/V0101.png', './data/train/label/V0272.png', './data/train/label/V0283.png', './data/train/label/V0369.png', './data/train/label/V0302.png', './data/train/label/V0100.png', './data/train/label/V0154.png', './data/train/label/V0345.png', './data/train/label/V0270.png', './data/train/label/V0383.png', './data/train/label/V0052.png', './data/train/label/V0106.png', './data/train/label/V0297.png', './data/train/label/V0208.png', './data/train/label/V0086.png', './data/train/label/V0313.png', './data/train/label/V0224.png', './data/train/label/V0058.png', './data/train/label/V0110.png', './data/train/label/V0207.png', './data/train/label/V0221.png', './data/train/label/V0095.png', './data/train/label/V0334.png', './data/train/label/V0055.png', './data/train/label/V0128.png', './data/train/label/V0124.png', './data/train/label/V0398.png', './data/train/label/V0119.png', './data/train/label/V0148.png', './data/train/label/V0258.png', './data/train/label/V0343.png', './data/train/label/V0230.png', './data/train/label/V0249.png', './data/train/label/V0243.png', './data/train/label/V0083.png', './data/train/label/V0386.png', './data/train/label/V0084.png', './data/train/label/V0149.png', './data/train/label/V0030.png', './data/train/label/V0097.png', './data/train/label/V0362.png', './data/train/label/V0175.png', './data/train/label/V0327.png', './data/train/label/V0218.png', './data/train/label/V0339.png', './data/train/label/V0396.png', './data/train/label/V0186.png', './data/train/label/V0309.png', './data/train/label/V0201.png', './data/train/label/V0042.png', './data/train/label/V0330.png', './data/train/label/V0233.png', './data/train/label/V0162.png', './data/train/label/V0006.png', './data/train/label/V0271.png', './data/train/label/V0310.png', './data/train/label/V0298.png', './data/train/label/V0225.png', './data/train/label/V0031.png', './data/train/label/V0374.png', './data/train/label/V0132.png', './data/train/label/V0213.png', './data/train/label/V0043.png', './data/train/label/V0317.png', './data/train/label/V0091.png', './data/train/label/V0325.png', './data/train/label/V0363.png', './data/train/label/V0227.png', './data/train/label/V0312.png', './data/train/label/V0242.png', './data/train/label/V0260.png', './data/train/label/V0400.png', './data/train/label/V0181.png', './data/train/label/V0347.png', './data/train/label/V0392.png', './data/train/label/V0147.png', './data/train/label/V0329.png', './data/train/label/V0200.png', './data/train/label/V0237.png', './data/train/label/V0048.png', './data/train/label/V0296.png', './data/train/label/V0197.png', './data/train/label/V0012.png', './data/train/label/V0146.png', './data/train/label/V0122.png', './data/train/label/V0231.png', './data/train/label/V0005.png', './data/train/label/V0194.png', './data/train/label/V0267.png', './data/train/label/V0390.png', './data/train/label/V0380.png', './data/train/label/V0322.png', './data/train/label/V0251.png', './data/train/label/V0092.png', './data/train/label/V0094.png', './data/train/label/V0063.png', './data/train/label/V0262.png', './data/train/label/V0315.png', './data/train/label/V0032.png', './data/train/label/V0178.png', './data/train/label/V0387.png', './data/train/label/V0007.png', './data/train/label/V0279.png', './data/train/label/V0238.png', './data/train/label/V0138.png', './data/train/label/V0357.png', './data/train/label/V0341.png', './data/train/label/V0371.png', './data/train/label/V0014.png', './data/train/label/V0073.png', './data/train/label/V0047.png', './data/train/label/V0062.png', './data/train/label/V0358.png', './data/train/label/V0236.png', './data/train/label/V0348.png', './data/train/label/V0391.png', './data/train/label/V0134.png', './data/train/label/V0013.png', './data/train/label/V0206.png', './data/train/label/V0323.png', './data/train/label/V0112.png', './data/train/label/V0284.png', './data/train/label/V0184.png', './data/train/label/V0105.png', './data/train/label/V0076.png', './data/train/label/V0057.png', './data/train/label/V0113.png', './data/train/label/V0394.png', './data/train/label/V0104.png', './data/train/label/V0021.png', './data/train/label/V0090.png', './data/train/label/V0338.png', './data/train/label/V0123.png', './data/train/label/V0041.png', './data/train/label/V0344.png', './data/train/label/V0022.png', './data/train/label/V0127.png', './data/train/label/V0241.png', './data/train/label/V0266.png', './data/train/label/V0368.png', './data/train/label/V0301.png', './data/train/label/V0349.png', './data/train/label/V0170.png', './data/train/label/V0191.png', './data/train/label/V0165.png', './data/train/label/V0087.png', './data/train/label/V0064.png', './data/train/label/V0307.png', './data/train/label/V0135.png', './data/train/label/V0211.png', './data/train/label/V0228.png', './data/train/label/V0314.png', './data/train/label/V0108.png', './data/train/label/V0203.png', './data/train/label/V0081.png', './data/train/label/V0393.png', './data/train/label/V0399.png', './data/train/label/V0351.png', './data/train/label/V0054.png', './data/train/label/V0350.png', './data/train/label/V0075.png', './data/train/label/V0144.png', './data/train/label/V0099.png', './data/train/label/V0204.png', './data/train/label/V0253.png', './data/train/label/V0156.png', './data/train/label/V0346.png', './data/train/label/V0254.png', './data/train/label/V0133.png', './data/train/label/V0277.png', './data/train/label/V0016.png', './data/train/label/V0379.png', './data/train/label/V0009.png', './data/train/label/V0321.png', './data/train/label/V0166.png', './data/train/label/V0082.png', './data/train/label/V0328.png', './data/train/label/V0360.png', './data/train/label/V0155.png', './data/train/label/V0305.png', './data/train/label/V0142.png', './data/train/label/V0045.png', './data/train/label/V0102.png', './data/train/label/V0018.png', './data/train/label/V0304.png', './data/train/label/V0189.png', './data/train/label/V0353.png', './data/train/label/V0078.png', './data/train/label/V0244.png', './data/train/label/V0255.png', './data/train/label/V0188.png', './data/train/label/V0157.png', './data/train/label/V0141.png', './data/train/label/V0001.png', './data/train/label/V0372.png', './data/train/label/V0289.png', './data/train/label/V0210.png', './data/train/label/V0288.png', './data/train/label/V0061.png', './data/train/label/V0320.png', './data/train/label/V0290.png', './data/train/label/V0265.png', './data/train/label/V0259.png', './data/train/label/V0193.png', './data/train/label/V0311.png', './data/train/label/V0352.png', './data/train/label/V0027.png', './data/train/label/V0120.png', './data/train/label/V0306.png', './data/train/label/V0019.png', './data/train/label/V0109.png', './data/train/label/V0070.png', './data/train/label/V0196.png', './data/train/label/V0139.png', './data/train/label/V0118.png', './data/train/label/V0038.png', './data/train/label/V0324.png', './data/train/label/V0037.png', './data/train/label/V0161.png', './data/train/label/V0256.png', './data/train/label/V0126.png', './data/train/label/V0074.png', './data/train/label/V0190.png', './data/train/label/V0093.png']\n",
            "['./data/val/image/T0237.png', './data/val/image/T0238.png', './data/val/image/T0236.png', './data/val/image/T0244.png', './data/val/image/T0245.png', './data/val/image/T0240.png', './data/val/image/T0239.png', './data/val/image/T0242.png', './data/val/image/T0243.png', './data/val/image/T0241.png', './data/val/image/T0227.png', './data/val/image/T0228.png', './data/val/image/T0234.png', './data/val/image/T0235.png', './data/val/image/T0229.png', './data/val/image/T0233.png', './data/val/image/T0232.png', './data/val/image/T0231.png', './data/val/image/T0222.png', './data/val/image/T0221.png', './data/val/image/T0223.png', './data/val/image/T0230.png', './data/val/image/T0220.png', './data/val/image/T0219.png', './data/val/image/T0225.png', './data/val/image/T0226.png', './data/val/image/T0224.png', './data/val/image/T0217.png', './data/val/image/T0218.png', './data/val/image/T0216.png', './data/val/image/T0215.png', './data/val/image/T0213.png', './data/val/image/T0214.png', './data/val/image/T0212.png', './data/val/image/T0211.png', './data/val/image/T0210.png', './data/val/image/T0202.png', './data/val/image/T0201.png', './data/val/image/T0209.png', './data/val/image/T0205.png', './data/val/image/T0204.png', './data/val/image/T0207.png', './data/val/image/T0206.png', './data/val/image/T0208.png', './data/val/image/T0203.png', './data/val/image/T0248.png', './data/val/image/T0249.png', './data/val/image/T0250.png', './data/val/image/T0247.png', './data/val/image/T0246.png', './data/val/image/T0276.png', './data/val/image/T0277.png', './data/val/image/T0278.png', './data/val/image/T0280.png', './data/val/image/T0281.png', './data/val/image/T0279.png', './data/val/image/T0274.png', './data/val/image/T0275.png', './data/val/image/T0273.png', './data/val/image/T0272.png', './data/val/image/T0271.png', './data/val/image/T0269.png', './data/val/image/T0270.png', './data/val/image/T0268.png', './data/val/image/T0265.png', './data/val/image/T0264.png', './data/val/image/T0267.png', './data/val/image/T0266.png', './data/val/image/T0263.png', './data/val/image/T0262.png', './data/val/image/T0261.png', './data/val/image/T0252.png', './data/val/image/T0251.png', './data/val/image/T0256.png', './data/val/image/T0254.png', './data/val/image/T0253.png', './data/val/image/T0257.png', './data/val/image/T0258.png', './data/val/image/T0259.png', './data/val/image/T0260.png', './data/val/image/T0255.png', './data/val/image/T0349.png', './data/val/image/T0348.png', './data/val/image/T0346.png', './data/val/image/T0344.png', './data/val/image/T0345.png', './data/val/image/T0350.png', './data/val/image/T0341.png', './data/val/image/T0340.png', './data/val/image/T0347.png', './data/val/image/T0338.png', './data/val/image/T0337.png', './data/val/image/T0342.png', './data/val/image/T0339.png', './data/val/image/T0343.png', './data/val/image/T0333.png', './data/val/image/T0332.png', './data/val/image/T0331.png', './data/val/image/T0328.png', './data/val/image/T0329.png', './data/val/image/T0335.png', './data/val/image/T0336.png', './data/val/image/T0334.png', './data/val/image/T0322.png', './data/val/image/T0323.png', './data/val/image/T0330.png', './data/val/image/T0320.png', './data/val/image/T0321.png', './data/val/image/T0327.png', './data/val/image/T0324.png', './data/val/image/T0326.png', './data/val/image/T0325.png', './data/val/image/T0316.png', './data/val/image/T0315.png', './data/val/image/T0314.png', './data/val/image/T0312.png', './data/val/image/T0313.png', './data/val/image/T0319.png', './data/val/image/T0318.png', './data/val/image/T0317.png', './data/val/image/T0310.png', './data/val/image/T0311.png', './data/val/image/T0309.png', './data/val/image/T0307.png', './data/val/image/T0308.png', './data/val/image/T0306.png', './data/val/image/T0305.png', './data/val/image/T0299.png', './data/val/image/T0301.png', './data/val/image/T0304.png', './data/val/image/T0303.png', './data/val/image/T0302.png', './data/val/image/T0300.png', './data/val/image/T0293.png', './data/val/image/T0292.png', './data/val/image/T0295.png', './data/val/image/T0294.png', './data/val/image/T0297.png', './data/val/image/T0298.png', './data/val/image/T0296.png', './data/val/image/T0287.png', './data/val/image/T0286.png', './data/val/image/T0288.png', './data/val/image/T0290.png', './data/val/image/T0291.png', './data/val/image/T0289.png', './data/val/image/T0284.png', './data/val/image/T0285.png', './data/val/image/T0283.png', './data/val/image/T0282.png', './data/val/image/T0399.png', './data/val/image/T0400.png', './data/val/image/T0398.png', './data/val/image/T0397.png', './data/val/image/T0394.png', './data/val/image/T0395.png', './data/val/image/T0396.png', './data/val/image/T0392.png', './data/val/image/T0393.png', './data/val/image/T0389.png', './data/val/image/T0390.png', './data/val/image/T0391.png', './data/val/image/T0386.png', './data/val/image/T0387.png', './data/val/image/T0384.png', './data/val/image/T0382.png', './data/val/image/T0383.png', './data/val/image/T0381.png', './data/val/image/T0388.png', './data/val/image/T0379.png', './data/val/image/T0378.png', './data/val/image/T0380.png', './data/val/image/T0385.png', './data/val/image/T0376.png', './data/val/image/T0377.png', './data/val/image/T0374.png', './data/val/image/T0375.png', './data/val/image/T0373.png', './data/val/image/T0372.png', './data/val/image/T0370.png', './data/val/image/T0362.png', './data/val/image/T0368.png', './data/val/image/T0367.png', './data/val/image/T0363.png', './data/val/image/T0369.png', './data/val/image/T0365.png', './data/val/image/T0364.png', './data/val/image/T0371.png', './data/val/image/T0366.png', './data/val/image/T0354.png', './data/val/image/T0361.png', './data/val/image/T0360.png', './data/val/image/T0355.png', './data/val/image/T0351.png', './data/val/image/T0359.png', './data/val/image/T0353.png', './data/val/image/T0352.png', './data/val/image/T0356.png', './data/val/image/T0358.png', './data/val/image/T0357.png', './data/val/image/T0065.png', './data/val/image/T0047.png', './data/val/image/T0148.png', './data/val/image/T0024.png', './data/val/image/T0114.png', './data/val/image/T0132.png', './data/val/image/T0010.png', './data/val/image/T0199.png', './data/val/image/T0168.png', './data/val/image/T0054.png', './data/val/image/T0066.png', './data/val/image/T0125.png', './data/val/image/T0144.png', './data/val/image/T0112.png', './data/val/image/T0014.png', './data/val/image/T0084.png', './data/val/image/T0118.png', './data/val/image/T0188.png', './data/val/image/T0128.png', './data/val/image/T0020.png', './data/val/image/T0030.png', './data/val/image/T0055.png', './data/val/image/T0184.png', './data/val/image/T0011.png', './data/val/image/T0027.png', './data/val/image/T0031.png', './data/val/image/T0196.png', './data/val/image/T0016.png', './data/val/image/T0068.png', './data/val/image/T0176.png', './data/val/image/T0123.png', './data/val/image/T0037.png', './data/val/image/T0187.png', './data/val/image/T0080.png', './data/val/image/T0166.png', './data/val/image/T0088.png', './data/val/image/T0146.png', './data/val/image/T0190.png', './data/val/image/T0182.png', './data/val/image/T0198.png', './data/val/image/T0173.png', './data/val/image/T0018.png', './data/val/image/T0171.png', './data/val/image/T0133.png', './data/val/image/T0051.png', './data/val/image/T0005.png', './data/val/image/T0082.png', './data/val/image/T0007.png', './data/val/image/T0076.png', './data/val/image/T0057.png', './data/val/image/T0045.png', './data/val/image/T0151.png', './data/val/image/T0122.png', './data/val/image/T0141.png', './data/val/image/T0103.png', './data/val/image/T0087.png', './data/val/image/T0165.png', './data/val/image/T0105.png', './data/val/image/T0094.png', './data/val/image/T0161.png', './data/val/image/T0119.png', './data/val/image/T0041.png', './data/val/image/T0153.png', './data/val/image/T0071.png', './data/val/image/T0091.png', './data/val/image/T0067.png', './data/val/image/T0106.png', './data/val/image/T0186.png', './data/val/image/T0159.png', './data/val/image/T0189.png', './data/val/image/T0185.png', './data/val/image/T0152.png', './data/val/image/T0156.png', './data/val/image/T0001.png', './data/val/image/T0174.png', './data/val/image/T0093.png', './data/val/image/T0127.png', './data/val/image/T0050.png', './data/val/image/T0040.png', './data/val/image/T0113.png', './data/val/image/T0029.png', './data/val/image/T0042.png', './data/val/image/T0160.png', './data/val/image/T0073.png', './data/val/image/T0164.png', './data/val/image/T0107.png', './data/val/image/T0158.png', './data/val/image/T0096.png', './data/val/image/T0060.png', './data/val/image/T0108.png', './data/val/image/T0074.png', './data/val/image/T0136.png', './data/val/image/T0111.png', './data/val/image/T0099.png', './data/val/image/T0145.png', './data/val/image/T0193.png', './data/val/image/T0036.png', './data/val/image/T0058.png', './data/val/image/T0183.png', './data/val/image/T0025.png', './data/val/image/T0178.png', './data/val/image/T0130.png', './data/val/image/T0191.png', './data/val/image/T0101.png', './data/val/image/T0095.png', './data/val/image/T0192.png', './data/val/image/T0021.png', './data/val/image/T0097.png', './data/val/image/T0167.png', './data/val/image/T0124.png', './data/val/image/T0078.png', './data/val/image/T0035.png', './data/val/image/T0090.png', './data/val/image/T0052.png', './data/val/image/T0004.png', './data/val/image/T0092.png', './data/val/image/T0070.png', './data/val/image/T0140.png', './data/val/image/T0069.png', './data/val/image/T0009.png', './data/val/image/T0043.png', './data/val/image/T0012.png', './data/val/image/T0081.png', './data/val/image/T0046.png', './data/val/image/T0075.png', './data/val/image/T0002.png', './data/val/image/T0098.png', './data/val/image/T0129.png', './data/val/image/T0104.png', './data/val/image/T0022.png', './data/val/image/T0134.png', './data/val/image/T0100.png', './data/val/image/T0179.png', './data/val/image/T0019.png', './data/val/image/T0056.png', './data/val/image/T0028.png', './data/val/image/T0089.png', './data/val/image/T0013.png', './data/val/image/T0008.png', './data/val/image/T0126.png', './data/val/image/T0157.png', './data/val/image/T0109.png', './data/val/image/T0169.png', './data/val/image/T0044.png', './data/val/image/T0180.png', './data/val/image/T0033.png', './data/val/image/T0048.png', './data/val/image/T0163.png', './data/val/image/T0139.png', './data/val/image/T0072.png', './data/val/image/T0003.png', './data/val/image/T0085.png', './data/val/image/T0200.png', './data/val/image/T0034.png', './data/val/image/T0115.png', './data/val/image/T0023.png', './data/val/image/T0138.png', './data/val/image/T0110.png', './data/val/image/T0162.png', './data/val/image/T0143.png', './data/val/image/T0006.png', './data/val/image/T0032.png', './data/val/image/T0077.png', './data/val/image/T0038.png', './data/val/image/T0086.png', './data/val/image/T0059.png', './data/val/image/T0177.png', './data/val/image/T0175.png', './data/val/image/T0053.png', './data/val/image/T0195.png', './data/val/image/T0121.png', './data/val/image/T0147.png', './data/val/image/T0049.png', './data/val/image/T0149.png', './data/val/image/T0170.png', './data/val/image/T0137.png', './data/val/image/T0150.png', './data/val/image/T0194.png', './data/val/image/T0181.png', './data/val/image/T0061.png', './data/val/image/T0079.png', './data/val/image/T0172.png', './data/val/image/T0117.png', './data/val/image/T0154.png', './data/val/image/T0197.png', './data/val/image/T0131.png', './data/val/image/T0026.png', './data/val/image/T0135.png', './data/val/image/T0142.png', './data/val/image/T0062.png', './data/val/image/T0064.png', './data/val/image/T0102.png', './data/val/image/T0083.png', './data/val/image/T0120.png', './data/val/image/T0015.png', './data/val/image/T0039.png', './data/val/image/T0017.png', './data/val/image/T0116.png', './data/val/image/T0063.png', './data/val/image/T0155.png']\n",
            "['./data/val/mask/T0237.png', './data/val/mask/T0238.png', './data/val/mask/T0236.png', './data/val/mask/T0244.png', './data/val/mask/T0245.png', './data/val/mask/T0240.png', './data/val/mask/T0239.png', './data/val/mask/T0242.png', './data/val/mask/T0243.png', './data/val/mask/T0241.png', './data/val/mask/T0227.png', './data/val/mask/T0228.png', './data/val/mask/T0234.png', './data/val/mask/T0235.png', './data/val/mask/T0229.png', './data/val/mask/T0233.png', './data/val/mask/T0232.png', './data/val/mask/T0231.png', './data/val/mask/T0222.png', './data/val/mask/T0221.png', './data/val/mask/T0223.png', './data/val/mask/T0230.png', './data/val/mask/T0220.png', './data/val/mask/T0219.png', './data/val/mask/T0225.png', './data/val/mask/T0226.png', './data/val/mask/T0224.png', './data/val/mask/T0217.png', './data/val/mask/T0218.png', './data/val/mask/T0216.png', './data/val/mask/T0215.png', './data/val/mask/T0213.png', './data/val/mask/T0214.png', './data/val/mask/T0212.png', './data/val/mask/T0211.png', './data/val/mask/T0210.png', './data/val/mask/T0202.png', './data/val/mask/T0201.png', './data/val/mask/T0209.png', './data/val/mask/T0205.png', './data/val/mask/T0204.png', './data/val/mask/T0207.png', './data/val/mask/T0206.png', './data/val/mask/T0208.png', './data/val/mask/T0203.png', './data/val/mask/T0248.png', './data/val/mask/T0249.png', './data/val/mask/T0250.png', './data/val/mask/T0247.png', './data/val/mask/T0246.png', './data/val/mask/T0276.png', './data/val/mask/T0277.png', './data/val/mask/T0278.png', './data/val/mask/T0280.png', './data/val/mask/T0281.png', './data/val/mask/T0279.png', './data/val/mask/T0274.png', './data/val/mask/T0275.png', './data/val/mask/T0273.png', './data/val/mask/T0272.png', './data/val/mask/T0271.png', './data/val/mask/T0269.png', './data/val/mask/T0270.png', './data/val/mask/T0268.png', './data/val/mask/T0265.png', './data/val/mask/T0264.png', './data/val/mask/T0267.png', './data/val/mask/T0266.png', './data/val/mask/T0263.png', './data/val/mask/T0262.png', './data/val/mask/T0261.png', './data/val/mask/T0252.png', './data/val/mask/T0251.png', './data/val/mask/T0256.png', './data/val/mask/T0254.png', './data/val/mask/T0253.png', './data/val/mask/T0257.png', './data/val/mask/T0258.png', './data/val/mask/T0259.png', './data/val/mask/T0260.png', './data/val/mask/T0255.png', './data/val/mask/T0349.png', './data/val/mask/T0348.png', './data/val/mask/T0346.png', './data/val/mask/T0344.png', './data/val/mask/T0345.png', './data/val/mask/T0350.png', './data/val/mask/T0341.png', './data/val/mask/T0340.png', './data/val/mask/T0347.png', './data/val/mask/T0338.png', './data/val/mask/T0337.png', './data/val/mask/T0342.png', './data/val/mask/T0339.png', './data/val/mask/T0343.png', './data/val/mask/T0333.png', './data/val/mask/T0332.png', './data/val/mask/T0331.png', './data/val/mask/T0328.png', './data/val/mask/T0329.png', './data/val/mask/T0335.png', './data/val/mask/T0336.png', './data/val/mask/T0334.png', './data/val/mask/T0322.png', './data/val/mask/T0323.png', './data/val/mask/T0330.png', './data/val/mask/T0320.png', './data/val/mask/T0321.png', './data/val/mask/T0327.png', './data/val/mask/T0324.png', './data/val/mask/T0326.png', './data/val/mask/T0325.png', './data/val/mask/T0316.png', './data/val/mask/T0315.png', './data/val/mask/T0314.png', './data/val/mask/T0312.png', './data/val/mask/T0313.png', './data/val/mask/T0319.png', './data/val/mask/T0318.png', './data/val/mask/T0317.png', './data/val/mask/T0310.png', './data/val/mask/T0311.png', './data/val/mask/T0309.png', './data/val/mask/T0307.png', './data/val/mask/T0308.png', './data/val/mask/T0306.png', './data/val/mask/T0305.png', './data/val/mask/T0299.png', './data/val/mask/T0301.png', './data/val/mask/T0304.png', './data/val/mask/T0303.png', './data/val/mask/T0302.png', './data/val/mask/T0300.png', './data/val/mask/T0293.png', './data/val/mask/T0292.png', './data/val/mask/T0295.png', './data/val/mask/T0294.png', './data/val/mask/T0297.png', './data/val/mask/T0298.png', './data/val/mask/T0296.png', './data/val/mask/T0287.png', './data/val/mask/T0286.png', './data/val/mask/T0288.png', './data/val/mask/T0290.png', './data/val/mask/T0291.png', './data/val/mask/T0289.png', './data/val/mask/T0284.png', './data/val/mask/T0285.png', './data/val/mask/T0283.png', './data/val/mask/T0282.png', './data/val/mask/T0399.png', './data/val/mask/T0400.png', './data/val/mask/T0398.png', './data/val/mask/T0397.png', './data/val/mask/T0394.png', './data/val/mask/T0395.png', './data/val/mask/T0396.png', './data/val/mask/T0392.png', './data/val/mask/T0393.png', './data/val/mask/T0389.png', './data/val/mask/T0390.png', './data/val/mask/T0391.png', './data/val/mask/T0386.png', './data/val/mask/T0387.png', './data/val/mask/T0384.png', './data/val/mask/T0382.png', './data/val/mask/T0383.png', './data/val/mask/T0381.png', './data/val/mask/T0388.png', './data/val/mask/T0379.png', './data/val/mask/T0378.png', './data/val/mask/T0380.png', './data/val/mask/T0385.png', './data/val/mask/T0376.png', './data/val/mask/T0377.png', './data/val/mask/T0374.png', './data/val/mask/T0375.png', './data/val/mask/T0373.png', './data/val/mask/T0372.png', './data/val/mask/T0370.png', './data/val/mask/T0362.png', './data/val/mask/T0368.png', './data/val/mask/T0367.png', './data/val/mask/T0363.png', './data/val/mask/T0369.png', './data/val/mask/T0365.png', './data/val/mask/T0364.png', './data/val/mask/T0371.png', './data/val/mask/T0366.png', './data/val/mask/T0354.png', './data/val/mask/T0361.png', './data/val/mask/T0360.png', './data/val/mask/T0355.png', './data/val/mask/T0351.png', './data/val/mask/T0359.png', './data/val/mask/T0353.png', './data/val/mask/T0352.png', './data/val/mask/T0356.png', './data/val/mask/T0358.png', './data/val/mask/T0357.png', './data/val/mask/T0065.png', './data/val/mask/T0047.png', './data/val/mask/T0148.png', './data/val/mask/T0024.png', './data/val/mask/T0114.png', './data/val/mask/T0132.png', './data/val/mask/T0010.png', './data/val/mask/T0199.png', './data/val/mask/T0168.png', './data/val/mask/T0054.png', './data/val/mask/T0066.png', './data/val/mask/T0125.png', './data/val/mask/T0144.png', './data/val/mask/T0112.png', './data/val/mask/T0014.png', './data/val/mask/T0084.png', './data/val/mask/T0118.png', './data/val/mask/T0188.png', './data/val/mask/T0128.png', './data/val/mask/T0020.png', './data/val/mask/T0030.png', './data/val/mask/T0055.png', './data/val/mask/T0184.png', './data/val/mask/T0011.png', './data/val/mask/T0027.png', './data/val/mask/T0031.png', './data/val/mask/T0196.png', './data/val/mask/T0016.png', './data/val/mask/T0068.png', './data/val/mask/T0176.png', './data/val/mask/T0123.png', './data/val/mask/T0037.png', './data/val/mask/T0187.png', './data/val/mask/T0080.png', './data/val/mask/T0166.png', './data/val/mask/T0088.png', './data/val/mask/T0146.png', './data/val/mask/T0190.png', './data/val/mask/T0182.png', './data/val/mask/T0198.png', './data/val/mask/T0173.png', './data/val/mask/T0018.png', './data/val/mask/T0171.png', './data/val/mask/T0133.png', './data/val/mask/T0051.png', './data/val/mask/T0005.png', './data/val/mask/T0082.png', './data/val/mask/T0007.png', './data/val/mask/T0076.png', './data/val/mask/T0057.png', './data/val/mask/T0045.png', './data/val/mask/T0151.png', './data/val/mask/T0122.png', './data/val/mask/T0141.png', './data/val/mask/T0103.png', './data/val/mask/T0087.png', './data/val/mask/T0165.png', './data/val/mask/T0105.png', './data/val/mask/T0094.png', './data/val/mask/T0161.png', './data/val/mask/T0119.png', './data/val/mask/T0041.png', './data/val/mask/T0153.png', './data/val/mask/T0071.png', './data/val/mask/T0091.png', './data/val/mask/T0067.png', './data/val/mask/T0106.png', './data/val/mask/T0186.png', './data/val/mask/T0159.png', './data/val/mask/T0189.png', './data/val/mask/T0185.png', './data/val/mask/T0152.png', './data/val/mask/T0156.png', './data/val/mask/T0001.png', './data/val/mask/T0174.png', './data/val/mask/T0093.png', './data/val/mask/T0127.png', './data/val/mask/T0050.png', './data/val/mask/T0040.png', './data/val/mask/T0113.png', './data/val/mask/T0029.png', './data/val/mask/T0042.png', './data/val/mask/T0160.png', './data/val/mask/T0073.png', './data/val/mask/T0164.png', './data/val/mask/T0107.png', './data/val/mask/T0158.png', './data/val/mask/T0096.png', './data/val/mask/T0060.png', './data/val/mask/T0108.png', './data/val/mask/T0074.png', './data/val/mask/T0136.png', './data/val/mask/T0111.png', './data/val/mask/T0099.png', './data/val/mask/T0145.png', './data/val/mask/T0193.png', './data/val/mask/T0036.png', './data/val/mask/T0058.png', './data/val/mask/T0183.png', './data/val/mask/T0025.png', './data/val/mask/T0178.png', './data/val/mask/T0130.png', './data/val/mask/T0191.png', './data/val/mask/T0101.png', './data/val/mask/T0095.png', './data/val/mask/T0192.png', './data/val/mask/T0021.png', './data/val/mask/T0097.png', './data/val/mask/T0167.png', './data/val/mask/T0124.png', './data/val/mask/T0078.png', './data/val/mask/T0035.png', './data/val/mask/T0090.png', './data/val/mask/T0052.png', './data/val/mask/T0004.png', './data/val/mask/T0092.png', './data/val/mask/T0070.png', './data/val/mask/T0140.png', './data/val/mask/T0069.png', './data/val/mask/T0009.png', './data/val/mask/T0043.png', './data/val/mask/T0012.png', './data/val/mask/T0081.png', './data/val/mask/T0046.png', './data/val/mask/T0075.png', './data/val/mask/T0002.png', './data/val/mask/T0098.png', './data/val/mask/T0129.png', './data/val/mask/T0104.png', './data/val/mask/T0022.png', './data/val/mask/T0134.png', './data/val/mask/T0100.png', './data/val/mask/T0179.png', './data/val/mask/T0019.png', './data/val/mask/T0056.png', './data/val/mask/T0028.png', './data/val/mask/T0089.png', './data/val/mask/T0013.png', './data/val/mask/T0008.png', './data/val/mask/T0126.png', './data/val/mask/T0157.png', './data/val/mask/T0109.png', './data/val/mask/T0169.png', './data/val/mask/T0044.png', './data/val/mask/T0180.png', './data/val/mask/T0033.png', './data/val/mask/T0048.png', './data/val/mask/T0163.png', './data/val/mask/T0139.png', './data/val/mask/T0072.png', './data/val/mask/T0003.png', './data/val/mask/T0085.png', './data/val/mask/T0200.png', './data/val/mask/T0034.png', './data/val/mask/T0115.png', './data/val/mask/T0023.png', './data/val/mask/T0138.png', './data/val/mask/T0110.png', './data/val/mask/T0162.png', './data/val/mask/T0143.png', './data/val/mask/T0006.png', './data/val/mask/T0032.png', './data/val/mask/T0077.png', './data/val/mask/T0038.png', './data/val/mask/T0086.png', './data/val/mask/T0059.png', './data/val/mask/T0177.png', './data/val/mask/T0175.png', './data/val/mask/T0053.png', './data/val/mask/T0195.png', './data/val/mask/T0121.png', './data/val/mask/T0147.png', './data/val/mask/T0049.png', './data/val/mask/T0149.png', './data/val/mask/T0170.png', './data/val/mask/T0137.png', './data/val/mask/T0150.png', './data/val/mask/T0194.png', './data/val/mask/T0181.png', './data/val/mask/T0061.png', './data/val/mask/T0079.png', './data/val/mask/T0172.png', './data/val/mask/T0117.png', './data/val/mask/T0154.png', './data/val/mask/T0197.png', './data/val/mask/T0131.png', './data/val/mask/T0026.png', './data/val/mask/T0135.png', './data/val/mask/T0142.png', './data/val/mask/T0062.png', './data/val/mask/T0064.png', './data/val/mask/T0102.png', './data/val/mask/T0083.png', './data/val/mask/T0120.png', './data/val/mask/T0015.png', './data/val/mask/T0039.png', './data/val/mask/T0017.png', './data/val/mask/T0116.png', './data/val/mask/T0063.png', './data/val/mask/T0155.png']\n",
            "Epoch 1/100\n",
            "80/80 [==============================] - 767s 10s/step - loss: 0.3579 - accuracy: 0.9538 - val_loss: 0.4274 - val_accuracy: 0.9591\n",
            "\n",
            "Epoch 00001: val_loss improved from inf to 0.42739, saving model to weight_1.hdf5\n",
            "Epoch 2/100\n",
            "80/80 [==============================] - 90s 1s/step - loss: 0.1934 - accuracy: 0.9862 - val_loss: 0.2243 - val_accuracy: 0.9866\n",
            "\n",
            "Epoch 00002: val_loss improved from 0.42739 to 0.22425, saving model to weight_1.hdf5\n",
            "Epoch 3/100\n",
            "80/80 [==============================] - 89s 1s/step - loss: 0.1319 - accuracy: 0.9863 - val_loss: 0.1461 - val_accuracy: 0.9870\n",
            "\n",
            "Epoch 00003: val_loss improved from 0.22425 to 0.14614, saving model to weight_1.hdf5\n",
            "Epoch 4/100\n",
            "80/80 [==============================] - 89s 1s/step - loss: 0.0972 - accuracy: 0.9863 - val_loss: 0.1001 - val_accuracy: 0.9870\n",
            "\n",
            "Epoch 00004: val_loss improved from 0.14614 to 0.10011, saving model to weight_1.hdf5\n",
            "Epoch 5/100\n",
            "80/80 [==============================] - 89s 1s/step - loss: 0.0747 - accuracy: 0.9863 - val_loss: 0.0744 - val_accuracy: 0.9870\n",
            "\n",
            "Epoch 00005: val_loss improved from 0.10011 to 0.07438, saving model to weight_1.hdf5\n",
            "Epoch 6/100\n",
            "80/80 [==============================] - 89s 1s/step - loss: 0.0592 - accuracy: 0.9863 - val_loss: 0.0570 - val_accuracy: 0.9870\n",
            "\n",
            "Epoch 00006: val_loss improved from 0.07438 to 0.05703, saving model to weight_1.hdf5\n",
            "Epoch 7/100\n",
            "80/80 [==============================] - 89s 1s/step - loss: 0.0482 - accuracy: 0.9863 - val_loss: 0.0480 - val_accuracy: 0.9870\n",
            "\n",
            "Epoch 00007: val_loss improved from 0.05703 to 0.04805, saving model to weight_1.hdf5\n",
            "Epoch 8/100\n",
            "80/80 [==============================] - 89s 1s/step - loss: 0.0406 - accuracy: 0.9863 - val_loss: 0.0386 - val_accuracy: 0.9870\n",
            "\n",
            "Epoch 00008: val_loss improved from 0.04805 to 0.03862, saving model to weight_1.hdf5\n",
            "Epoch 9/100\n",
            "80/80 [==============================] - 89s 1s/step - loss: 0.0349 - accuracy: 0.9863 - val_loss: 0.0333 - val_accuracy: 0.9869\n",
            "\n",
            "Epoch 00009: val_loss improved from 0.03862 to 0.03331, saving model to weight_1.hdf5\n",
            "Epoch 10/100\n",
            "80/80 [==============================] - 89s 1s/step - loss: 0.0307 - accuracy: 0.9863 - val_loss: 0.0294 - val_accuracy: 0.9870\n",
            "\n",
            "Epoch 00010: val_loss improved from 0.03331 to 0.02935, saving model to weight_1.hdf5\n",
            "Epoch 11/100\n",
            "80/80 [==============================] - 90s 1s/step - loss: 0.0275 - accuracy: 0.9863 - val_loss: 0.0263 - val_accuracy: 0.9870\n",
            "\n",
            "Epoch 00011: val_loss improved from 0.02935 to 0.02630, saving model to weight_1.hdf5\n",
            "Epoch 12/100\n",
            "80/80 [==============================] - 89s 1s/step - loss: 0.0248 - accuracy: 0.9863 - val_loss: 0.0248 - val_accuracy: 0.9870\n",
            "\n",
            "Epoch 00012: val_loss improved from 0.02630 to 0.02481, saving model to weight_1.hdf5\n",
            "Epoch 13/100\n",
            "80/80 [==============================] - 89s 1s/step - loss: 0.0227 - accuracy: 0.9863 - val_loss: 0.0223 - val_accuracy: 0.9870\n",
            "\n",
            "Epoch 00013: val_loss improved from 0.02481 to 0.02228, saving model to weight_1.hdf5\n",
            "Epoch 14/100\n",
            "80/80 [==============================] - 90s 1s/step - loss: 0.0211 - accuracy: 0.9863 - val_loss: 0.0206 - val_accuracy: 0.9870\n",
            "\n",
            "Epoch 00014: val_loss improved from 0.02228 to 0.02059, saving model to weight_1.hdf5\n",
            "Epoch 15/100\n",
            "80/80 [==============================] - 90s 1s/step - loss: 0.0196 - accuracy: 0.9863 - val_loss: 0.0193 - val_accuracy: 0.9870\n",
            "\n",
            "Epoch 00015: val_loss improved from 0.02059 to 0.01934, saving model to weight_1.hdf5\n",
            "Epoch 16/100\n",
            "80/80 [==============================] - 90s 1s/step - loss: 0.0185 - accuracy: 0.9863 - val_loss: 0.0182 - val_accuracy: 0.9870\n",
            "\n",
            "Epoch 00016: val_loss improved from 0.01934 to 0.01823, saving model to weight_1.hdf5\n",
            "Epoch 17/100\n",
            "80/80 [==============================] - 89s 1s/step - loss: 0.0175 - accuracy: 0.9863 - val_loss: 0.0165 - val_accuracy: 0.9870\n",
            "\n",
            "Epoch 00017: val_loss improved from 0.01823 to 0.01650, saving model to weight_1.hdf5\n",
            "Epoch 18/100\n",
            "80/80 [==============================] - 89s 1s/step - loss: 0.0166 - accuracy: 0.9863 - val_loss: 0.0181 - val_accuracy: 0.9870\n",
            "\n",
            "Epoch 00018: val_loss did not improve from 0.01650\n",
            "Epoch 19/100\n",
            "80/80 [==============================] - 89s 1s/step - loss: 0.0159 - accuracy: 0.9863 - val_loss: 0.0163 - val_accuracy: 0.9870\n",
            "\n",
            "Epoch 00019: val_loss improved from 0.01650 to 0.01628, saving model to weight_1.hdf5\n",
            "Epoch 20/100\n",
            "80/80 [==============================] - 89s 1s/step - loss: 0.0153 - accuracy: 0.9863 - val_loss: 0.0160 - val_accuracy: 0.9870\n",
            "\n",
            "Epoch 00020: val_loss improved from 0.01628 to 0.01597, saving model to weight_1.hdf5\n",
            "Epoch 21/100\n",
            "80/80 [==============================] - 89s 1s/step - loss: 0.0147 - accuracy: 0.9863 - val_loss: 0.0145 - val_accuracy: 0.9870\n",
            "\n",
            "Epoch 00021: val_loss improved from 0.01597 to 0.01447, saving model to weight_1.hdf5\n",
            "Epoch 22/100\n",
            "80/80 [==============================] - 90s 1s/step - loss: 0.0142 - accuracy: 0.9863 - val_loss: 0.0147 - val_accuracy: 0.9869\n",
            "\n",
            "Epoch 00022: val_loss did not improve from 0.01447\n",
            "Epoch 23/100\n",
            "80/80 [==============================] - 89s 1s/step - loss: 0.0137 - accuracy: 0.9863 - val_loss: 0.0145 - val_accuracy: 0.9870\n",
            "\n",
            "Epoch 00023: val_loss did not improve from 0.01447\n",
            "Epoch 24/100\n",
            "80/80 [==============================] - 89s 1s/step - loss: 0.0133 - accuracy: 0.9863 - val_loss: 0.0139 - val_accuracy: 0.9870\n",
            "\n",
            "Epoch 00024: val_loss improved from 0.01447 to 0.01391, saving model to weight_1.hdf5\n",
            "Epoch 25/100\n",
            "80/80 [==============================] - 89s 1s/step - loss: 0.0130 - accuracy: 0.9863 - val_loss: 0.0146 - val_accuracy: 0.9870\n",
            "\n",
            "Epoch 00025: val_loss did not improve from 0.01391\n",
            "Epoch 26/100\n",
            "80/80 [==============================] - 89s 1s/step - loss: 0.0127 - accuracy: 0.9863 - val_loss: 0.0133 - val_accuracy: 0.9870\n",
            "\n",
            "Epoch 00026: val_loss improved from 0.01391 to 0.01330, saving model to weight_1.hdf5\n",
            "Epoch 27/100\n",
            "80/80 [==============================] - 89s 1s/step - loss: 0.0126 - accuracy: 0.9863 - val_loss: 0.0132 - val_accuracy: 0.9870\n",
            "\n",
            "Epoch 00027: val_loss improved from 0.01330 to 0.01317, saving model to weight_1.hdf5\n",
            "Epoch 28/100\n",
            "80/80 [==============================] - 90s 1s/step - loss: 0.0122 - accuracy: 0.9863 - val_loss: 0.0121 - val_accuracy: 0.9869\n",
            "\n",
            "Epoch 00028: val_loss improved from 0.01317 to 0.01215, saving model to weight_1.hdf5\n",
            "Epoch 29/100\n",
            "80/80 [==============================] - 89s 1s/step - loss: 0.0120 - accuracy: 0.9863 - val_loss: 0.0126 - val_accuracy: 0.9869\n",
            "\n",
            "Epoch 00029: val_loss did not improve from 0.01215\n",
            "Epoch 30/100\n",
            "80/80 [==============================] - 89s 1s/step - loss: 0.0118 - accuracy: 0.9863 - val_loss: 0.0126 - val_accuracy: 0.9870\n",
            "\n",
            "Epoch 00030: val_loss did not improve from 0.01215\n",
            "Epoch 31/100\n",
            "80/80 [==============================] - 89s 1s/step - loss: 0.0116 - accuracy: 0.9863 - val_loss: 0.0144 - val_accuracy: 0.9870\n",
            "\n",
            "Epoch 00031: val_loss did not improve from 0.01215\n",
            "Epoch 32/100\n",
            "80/80 [==============================] - 89s 1s/step - loss: 0.0114 - accuracy: 0.9863 - val_loss: 0.0124 - val_accuracy: 0.9870\n",
            "\n",
            "Epoch 00032: val_loss did not improve from 0.01215\n",
            "Epoch 33/100\n",
            "80/80 [==============================] - 89s 1s/step - loss: 0.0112 - accuracy: 0.9863 - val_loss: 0.0124 - val_accuracy: 0.9870\n",
            "\n",
            "Epoch 00033: val_loss did not improve from 0.01215\n",
            "Epoch 34/100\n",
            "80/80 [==============================] - 89s 1s/step - loss: 0.0111 - accuracy: 0.9863 - val_loss: 0.0118 - val_accuracy: 0.9869\n",
            "\n",
            "Epoch 00034: val_loss improved from 0.01215 to 0.01177, saving model to weight_1.hdf5\n",
            "Epoch 35/100\n",
            "80/80 [==============================] - 89s 1s/step - loss: 0.0109 - accuracy: 0.9863 - val_loss: 0.0109 - val_accuracy: 0.9869\n",
            "\n",
            "Epoch 00035: val_loss improved from 0.01177 to 0.01094, saving model to weight_1.hdf5\n",
            "Epoch 36/100\n",
            "80/80 [==============================] - 90s 1s/step - loss: 0.0108 - accuracy: 0.9863 - val_loss: 0.0107 - val_accuracy: 0.9870\n",
            "\n",
            "Epoch 00036: val_loss improved from 0.01094 to 0.01069, saving model to weight_1.hdf5\n",
            "Epoch 37/100\n",
            "80/80 [==============================] - 89s 1s/step - loss: 0.0107 - accuracy: 0.9863 - val_loss: 0.0114 - val_accuracy: 0.9870\n",
            "\n",
            "Epoch 00037: val_loss did not improve from 0.01069\n",
            "Epoch 38/100\n",
            "80/80 [==============================] - 89s 1s/step - loss: 0.0107 - accuracy: 0.9863 - val_loss: 0.0107 - val_accuracy: 0.9869\n",
            "\n",
            "Epoch 00038: val_loss improved from 0.01069 to 0.01066, saving model to weight_1.hdf5\n",
            "Epoch 39/100\n",
            "80/80 [==============================] - 90s 1s/step - loss: 0.0106 - accuracy: 0.9863 - val_loss: 0.0115 - val_accuracy: 0.9869\n",
            "\n",
            "Epoch 00039: val_loss did not improve from 0.01066\n",
            "Epoch 40/100\n",
            "80/80 [==============================] - 89s 1s/step - loss: 0.0104 - accuracy: 0.9863 - val_loss: 0.0110 - val_accuracy: 0.9869\n",
            "\n",
            "Epoch 00040: val_loss did not improve from 0.01066\n",
            "Epoch 41/100\n",
            "80/80 [==============================] - 89s 1s/step - loss: 0.0104 - accuracy: 0.9863 - val_loss: 0.0117 - val_accuracy: 0.9869\n",
            "\n",
            "Epoch 00041: val_loss did not improve from 0.01066\n",
            "Epoch 42/100\n",
            "80/80 [==============================] - 90s 1s/step - loss: 0.0103 - accuracy: 0.9863 - val_loss: 0.0117 - val_accuracy: 0.9870\n",
            "\n",
            "Epoch 00042: val_loss did not improve from 0.01066\n",
            "Epoch 43/100\n",
            "80/80 [==============================] - 90s 1s/step - loss: 0.0102 - accuracy: 0.9863 - val_loss: 0.0103 - val_accuracy: 0.9870\n",
            "\n",
            "Epoch 00043: val_loss improved from 0.01066 to 0.01032, saving model to weight_1.hdf5\n",
            "Epoch 44/100\n",
            "80/80 [==============================] - 89s 1s/step - loss: 0.0102 - accuracy: 0.9863 - val_loss: 0.0101 - val_accuracy: 0.9869\n",
            "\n",
            "Epoch 00044: val_loss improved from 0.01032 to 0.01006, saving model to weight_1.hdf5\n",
            "Epoch 45/100\n",
            "80/80 [==============================] - 90s 1s/step - loss: 0.0101 - accuracy: 0.9863 - val_loss: 0.0108 - val_accuracy: 0.9869\n",
            "\n",
            "Epoch 00045: val_loss did not improve from 0.01006\n",
            "Epoch 46/100\n",
            "80/80 [==============================] - 90s 1s/step - loss: 0.0101 - accuracy: 0.9863 - val_loss: 0.0109 - val_accuracy: 0.9869\n",
            "\n",
            "Epoch 00046: val_loss did not improve from 0.01006\n",
            "Epoch 47/100\n",
            "80/80 [==============================] - 89s 1s/step - loss: 0.0100 - accuracy: 0.9863 - val_loss: 0.0108 - val_accuracy: 0.9870\n",
            "\n",
            "Epoch 00047: val_loss did not improve from 0.01006\n",
            "Epoch 48/100\n",
            "80/80 [==============================] - 89s 1s/step - loss: 0.0100 - accuracy: 0.9863 - val_loss: 0.0104 - val_accuracy: 0.9870\n",
            "\n",
            "Epoch 00048: val_loss did not improve from 0.01006\n",
            "Epoch 49/100\n",
            "80/80 [==============================] - 90s 1s/step - loss: 0.0100 - accuracy: 0.9863 - val_loss: 0.0105 - val_accuracy: 0.9869\n",
            "\n",
            "Epoch 00049: val_loss did not improve from 0.01006\n",
            "Epoch 50/100\n",
            "80/80 [==============================] - 89s 1s/step - loss: 0.0099 - accuracy: 0.9863 - val_loss: 0.0103 - val_accuracy: 0.9869\n",
            "\n",
            "Epoch 00050: val_loss did not improve from 0.01006\n",
            "Epoch 51/100\n",
            "80/80 [==============================] - 90s 1s/step - loss: 0.0099 - accuracy: 0.9863 - val_loss: 0.0109 - val_accuracy: 0.9869\n",
            "\n",
            "Epoch 00051: val_loss did not improve from 0.01006\n",
            "Epoch 52/100\n",
            "80/80 [==============================] - 89s 1s/step - loss: 0.0098 - accuracy: 0.9863 - val_loss: 0.0104 - val_accuracy: 0.9869\n",
            "\n",
            "Epoch 00052: val_loss did not improve from 0.01006\n",
            "Epoch 53/100\n",
            "80/80 [==============================] - 90s 1s/step - loss: 0.0098 - accuracy: 0.9863 - val_loss: 0.0111 - val_accuracy: 0.9869\n",
            "\n",
            "Epoch 00053: val_loss did not improve from 0.01006\n",
            "Epoch 54/100\n",
            "80/80 [==============================] - 89s 1s/step - loss: 0.0097 - accuracy: 0.9863 - val_loss: 0.0096 - val_accuracy: 0.9869\n",
            "\n",
            "Epoch 00054: val_loss improved from 0.01006 to 0.00960, saving model to weight_1.hdf5\n",
            "Epoch 55/100\n",
            "80/80 [==============================] - 90s 1s/step - loss: 0.0097 - accuracy: 0.9863 - val_loss: 0.0099 - val_accuracy: 0.9870\n",
            "\n",
            "Epoch 00055: val_loss did not improve from 0.00960\n",
            "Epoch 56/100\n",
            "80/80 [==============================] - 89s 1s/step - loss: 0.0097 - accuracy: 0.9863 - val_loss: 0.0105 - val_accuracy: 0.9870\n",
            "\n",
            "Epoch 00056: val_loss did not improve from 0.00960\n",
            "Epoch 57/100\n",
            "80/80 [==============================] - 90s 1s/step - loss: 0.0096 - accuracy: 0.9863 - val_loss: 0.0097 - val_accuracy: 0.9869\n",
            "\n",
            "Epoch 00057: val_loss did not improve from 0.00960\n",
            "Epoch 58/100\n",
            "80/80 [==============================] - 89s 1s/step - loss: 0.0096 - accuracy: 0.9863 - val_loss: 0.0096 - val_accuracy: 0.9869\n",
            "\n",
            "Epoch 00058: val_loss did not improve from 0.00960\n",
            "Epoch 59/100\n",
            "80/80 [==============================] - 89s 1s/step - loss: 0.0096 - accuracy: 0.9863 - val_loss: 0.0107 - val_accuracy: 0.9868\n",
            "\n",
            "Epoch 00059: val_loss did not improve from 0.00960\n",
            "Epoch 60/100\n",
            "80/80 [==============================] - 89s 1s/step - loss: 0.0095 - accuracy: 0.9863 - val_loss: 0.0114 - val_accuracy: 0.9870\n",
            "\n",
            "Epoch 00060: val_loss did not improve from 0.00960\n",
            "Epoch 61/100\n",
            "80/80 [==============================] - 89s 1s/step - loss: 0.0095 - accuracy: 0.9863 - val_loss: 0.0110 - val_accuracy: 0.9869\n",
            "\n",
            "Epoch 00061: val_loss did not improve from 0.00960\n",
            "Epoch 62/100\n",
            "80/80 [==============================] - 89s 1s/step - loss: 0.0095 - accuracy: 0.9863 - val_loss: 0.0109 - val_accuracy: 0.9869\n",
            "\n",
            "Epoch 00062: val_loss did not improve from 0.00960\n",
            "Epoch 63/100\n",
            "80/80 [==============================] - 89s 1s/step - loss: 0.0095 - accuracy: 0.9863 - val_loss: 0.0104 - val_accuracy: 0.9869\n",
            "\n",
            "Epoch 00063: val_loss did not improve from 0.00960\n",
            "Epoch 64/100\n",
            "80/80 [==============================] - 89s 1s/step - loss: 0.0095 - accuracy: 0.9863 - val_loss: 0.0121 - val_accuracy: 0.9870\n",
            "\n",
            "Epoch 00064: val_loss did not improve from 0.00960\n",
            "Epoch 65/100\n",
            "80/80 [==============================] - 89s 1s/step - loss: 0.0094 - accuracy: 0.9863 - val_loss: 0.0113 - val_accuracy: 0.9869\n",
            "\n",
            "Epoch 00065: val_loss did not improve from 0.00960\n",
            "Epoch 66/100\n",
            "80/80 [==============================] - 89s 1s/step - loss: 0.0094 - accuracy: 0.9863 - val_loss: 0.0105 - val_accuracy: 0.9870\n",
            "\n",
            "Epoch 00066: val_loss did not improve from 0.00960\n",
            "Epoch 67/100\n",
            "80/80 [==============================] - 89s 1s/step - loss: 0.0094 - accuracy: 0.9863 - val_loss: 0.0101 - val_accuracy: 0.9870\n",
            "\n",
            "Epoch 00067: val_loss did not improve from 0.00960\n",
            "Epoch 68/100\n",
            "80/80 [==============================] - 89s 1s/step - loss: 0.0094 - accuracy: 0.9863 - val_loss: 0.0108 - val_accuracy: 0.9869\n",
            "\n",
            "Epoch 00068: val_loss did not improve from 0.00960\n",
            "Epoch 69/100\n",
            "80/80 [==============================] - 89s 1s/step - loss: 0.0094 - accuracy: 0.9863 - val_loss: 0.0088 - val_accuracy: 0.9869\n",
            "\n",
            "Epoch 00069: val_loss improved from 0.00960 to 0.00882, saving model to weight_1.hdf5\n",
            "Epoch 70/100\n",
            "80/80 [==============================] - 89s 1s/step - loss: 0.0093 - accuracy: 0.9863 - val_loss: 0.0108 - val_accuracy: 0.9869\n",
            "\n",
            "Epoch 00070: val_loss did not improve from 0.00882\n",
            "Epoch 71/100\n",
            "80/80 [==============================] - 89s 1s/step - loss: 0.0093 - accuracy: 0.9863 - val_loss: 0.0104 - val_accuracy: 0.9869\n",
            "\n",
            "Epoch 00071: val_loss did not improve from 0.00882\n",
            "Epoch 72/100\n",
            "80/80 [==============================] - 89s 1s/step - loss: 0.0093 - accuracy: 0.9863 - val_loss: 0.0107 - val_accuracy: 0.9869\n",
            "\n",
            "Epoch 00072: val_loss did not improve from 0.00882\n",
            "Epoch 73/100\n",
            "80/80 [==============================] - 89s 1s/step - loss: 0.0093 - accuracy: 0.9863 - val_loss: 0.0101 - val_accuracy: 0.9869\n",
            "\n",
            "Epoch 00073: val_loss did not improve from 0.00882\n",
            "Epoch 74/100\n",
            "80/80 [==============================] - 89s 1s/step - loss: 0.0093 - accuracy: 0.9863 - val_loss: 0.0097 - val_accuracy: 0.9869\n",
            "\n",
            "Epoch 00074: val_loss did not improve from 0.00882\n",
            "Epoch 75/100\n",
            "80/80 [==============================] - 89s 1s/step - loss: 0.0093 - accuracy: 0.9863 - val_loss: 0.0096 - val_accuracy: 0.9869\n",
            "\n",
            "Epoch 00075: val_loss did not improve from 0.00882\n",
            "Epoch 76/100\n",
            "80/80 [==============================] - 89s 1s/step - loss: 0.0093 - accuracy: 0.9863 - val_loss: 0.0109 - val_accuracy: 0.9869\n",
            "\n",
            "Epoch 00076: val_loss did not improve from 0.00882\n",
            "Epoch 77/100\n",
            "80/80 [==============================] - 89s 1s/step - loss: 0.0093 - accuracy: 0.9863 - val_loss: 0.0103 - val_accuracy: 0.9869\n",
            "\n",
            "Epoch 00077: val_loss did not improve from 0.00882\n",
            "Epoch 78/100\n",
            "80/80 [==============================] - 89s 1s/step - loss: 0.0093 - accuracy: 0.9863 - val_loss: 0.0106 - val_accuracy: 0.9869\n",
            "\n",
            "Epoch 00078: val_loss did not improve from 0.00882\n",
            "Epoch 79/100\n",
            "80/80 [==============================] - 89s 1s/step - loss: 0.0092 - accuracy: 0.9863 - val_loss: 0.0110 - val_accuracy: 0.9869\n",
            "\n",
            "Epoch 00079: val_loss did not improve from 0.00882\n",
            "Epoch 80/100\n",
            "80/80 [==============================] - 89s 1s/step - loss: 0.0092 - accuracy: 0.9863 - val_loss: 0.0101 - val_accuracy: 0.9869\n",
            "\n",
            "Epoch 00080: val_loss did not improve from 0.00882\n",
            "Epoch 81/100\n",
            "80/80 [==============================] - 89s 1s/step - loss: 0.0092 - accuracy: 0.9863 - val_loss: 0.0122 - val_accuracy: 0.9869\n",
            "\n",
            "Epoch 00081: val_loss did not improve from 0.00882\n",
            "Epoch 82/100\n",
            "80/80 [==============================] - 89s 1s/step - loss: 0.0092 - accuracy: 0.9863 - val_loss: 0.0107 - val_accuracy: 0.9869\n",
            "\n",
            "Epoch 00082: val_loss did not improve from 0.00882\n",
            "Epoch 83/100\n",
            "80/80 [==============================] - 89s 1s/step - loss: 0.0092 - accuracy: 0.9863 - val_loss: 0.0105 - val_accuracy: 0.9869\n",
            "\n",
            "Epoch 00083: val_loss did not improve from 0.00882\n",
            "Epoch 84/100\n",
            "80/80 [==============================] - 89s 1s/step - loss: 0.0092 - accuracy: 0.9863 - val_loss: 0.0106 - val_accuracy: 0.9869\n",
            "\n",
            "Epoch 00084: val_loss did not improve from 0.00882\n",
            "Epoch 85/100\n",
            "80/80 [==============================] - 89s 1s/step - loss: 0.0092 - accuracy: 0.9863 - val_loss: 0.0099 - val_accuracy: 0.9869\n",
            "\n",
            "Epoch 00085: val_loss did not improve from 0.00882\n",
            "Epoch 86/100\n",
            "80/80 [==============================] - 89s 1s/step - loss: 0.0092 - accuracy: 0.9863 - val_loss: 0.0125 - val_accuracy: 0.9869\n",
            "\n",
            "Epoch 00086: val_loss did not improve from 0.00882\n",
            "Epoch 87/100\n",
            "80/80 [==============================] - 89s 1s/step - loss: 0.0092 - accuracy: 0.9863 - val_loss: 0.0104 - val_accuracy: 0.9869\n",
            "\n",
            "Epoch 00087: val_loss did not improve from 0.00882\n",
            "Epoch 88/100\n",
            "80/80 [==============================] - 89s 1s/step - loss: 0.0092 - accuracy: 0.9863 - val_loss: 0.0103 - val_accuracy: 0.9869\n",
            "\n",
            "Epoch 00088: val_loss did not improve from 0.00882\n",
            "Epoch 89/100\n",
            "80/80 [==============================] - 89s 1s/step - loss: 0.0092 - accuracy: 0.9863 - val_loss: 0.0096 - val_accuracy: 0.9869\n",
            "\n",
            "Epoch 00089: val_loss did not improve from 0.00882\n",
            "Epoch 90/100\n",
            "80/80 [==============================] - 89s 1s/step - loss: 0.0091 - accuracy: 0.9863 - val_loss: 0.0099 - val_accuracy: 0.9869\n",
            "\n",
            "Epoch 00090: val_loss did not improve from 0.00882\n",
            "Epoch 91/100\n",
            "80/80 [==============================] - 89s 1s/step - loss: 0.0091 - accuracy: 0.9863 - val_loss: 0.0111 - val_accuracy: 0.9870\n",
            "\n",
            "Epoch 00091: val_loss did not improve from 0.00882\n",
            "Epoch 92/100\n",
            "80/80 [==============================] - 89s 1s/step - loss: 0.0091 - accuracy: 0.9863 - val_loss: 0.0099 - val_accuracy: 0.9869\n",
            "\n",
            "Epoch 00092: val_loss did not improve from 0.00882\n",
            "Epoch 93/100\n",
            "80/80 [==============================] - 89s 1s/step - loss: 0.0091 - accuracy: 0.9863 - val_loss: 0.0111 - val_accuracy: 0.9869\n",
            "\n",
            "Epoch 00093: val_loss did not improve from 0.00882\n",
            "Epoch 94/100\n",
            "80/80 [==============================] - 89s 1s/step - loss: 0.0091 - accuracy: 0.9863 - val_loss: 0.0106 - val_accuracy: 0.9869\n",
            "\n",
            "Epoch 00094: val_loss did not improve from 0.00882\n",
            "Epoch 95/100\n",
            "80/80 [==============================] - 89s 1s/step - loss: 0.0091 - accuracy: 0.9863 - val_loss: 0.0105 - val_accuracy: 0.9869\n",
            "\n",
            "Epoch 00095: val_loss did not improve from 0.00882\n",
            "Epoch 96/100\n",
            "80/80 [==============================] - 89s 1s/step - loss: 0.0091 - accuracy: 0.9863 - val_loss: 0.0100 - val_accuracy: 0.9869\n",
            "\n",
            "Epoch 00096: val_loss did not improve from 0.00882\n",
            "Epoch 97/100\n",
            "80/80 [==============================] - 89s 1s/step - loss: 0.0091 - accuracy: 0.9863 - val_loss: 0.0111 - val_accuracy: 0.9869\n",
            "\n",
            "Epoch 00097: val_loss did not improve from 0.00882\n",
            "Epoch 98/100\n",
            "80/80 [==============================] - 89s 1s/step - loss: 0.0091 - accuracy: 0.9863 - val_loss: 0.0095 - val_accuracy: 0.9869\n",
            "\n",
            "Epoch 00098: val_loss did not improve from 0.00882\n",
            "Epoch 99/100\n",
            "80/80 [==============================] - 89s 1s/step - loss: 0.0091 - accuracy: 0.9863 - val_loss: 0.0099 - val_accuracy: 0.9869\n",
            "\n",
            "Epoch 00099: val_loss did not improve from 0.00882\n",
            "Epoch 100/100\n",
            "80/80 [==============================] - 89s 1s/step - loss: 0.0091 - accuracy: 0.9863 - val_loss: 0.0091 - val_accuracy: 0.9869\n",
            "\n",
            "Epoch 00100: val_loss did not improve from 0.00882\n"
          ],
          "name": "stdout"
        },
        {
          "output_type": "execute_result",
          "data": {
            "text/plain": [
              "<keras.callbacks.callbacks.History at 0x7f29a85eb8d0>"
            ]
          },
          "metadata": {
            "tags": []
          },
          "execution_count": 4
        }
      ]
    },
    {
      "cell_type": "markdown",
      "metadata": {
        "id": "YlhAlZVOZtBL",
        "colab_type": "text"
      },
      "source": [
        "# **Predict**\n",
        "*   Weight path: ./weight_1.hdf5\n",
        "*   Backbone: resnet34"
      ]
    },
    {
      "cell_type": "code",
      "metadata": {
        "id": "dcSPt6AykSWU",
        "colab_type": "code",
        "colab": {
          "base_uri": "https://localhost:8080/",
          "height": 52
        },
        "outputId": "36a90a48-339d-4ddc-fc61-b1ea76da5552"
      },
      "source": [
        "import skimage.io as io\n",
        "from segmentation_models import Unet\n",
        "from segmentation_models import get_preprocessing\n",
        "from segmentation_models.losses import bce_jaccard_loss\n",
        "from segmentation_models.metrics import iou_score\n",
        "import os\n",
        "import cv2\n",
        "import segmentation_models as sm\n",
        "import tensorflow as tf\n",
        "import keras\n",
        "import numpy as np\n",
        "from keras.optimizers import adam\n",
        "\n",
        "BACKBONE = 'resnet34'\n",
        "preprocess_input = sm.get_preprocessing(BACKBONE)\n",
        "\n",
        "\n",
        "def testGenerator(name,test_path):\n",
        "        img = np.empty((1,512,512,3))\n",
        "        path = os.path.join(test_path,\"%s.png\"%name)\n",
        "        image =cv2.imread(path)\n",
        "        cv2.normalize(image,image,alpha = 0,beta = 1,norm_type = cv2.NORM_MINMAX,dtype = cv2.CV_32F)\n",
        "        img[0] = cv2.cvtColor(image,cv2.COLOR_BGR2RGB)\n",
        "        yield img\n",
        "\n",
        "def labelVisualize(num_class,color_dict,img):\n",
        "    img = img[:,:,0] if len(img.shape) == 3 else img\n",
        "    img_out = np.zeros(img.shape + (3,))\n",
        "    for i in range(num_class):\n",
        "        img_out[img == i,:] = color_dict[i]\n",
        "    return img_out / 255\n",
        "\n",
        "def saveResult(name,save_path,npyfile,flag_multi_class = False,num_class = 2):\n",
        "    for i,item in enumerate(npyfile):\n",
        "        img = labelVisualize(num_class,COLOR_DICT,item) if flag_multi_class else item[:,:,0]\n",
        "        io.imsave(os.path.join(save_path,\"%s_predict.png\"%name),img)"
      ],
      "execution_count": null,
      "outputs": [
        {
          "output_type": "stream",
          "text": [
            "Using TensorFlow backend.\n"
          ],
          "name": "stderr"
        },
        {
          "output_type": "stream",
          "text": [
            "Segmentation Models: using `keras` framework.\n"
          ],
          "name": "stdout"
        }
      ]
    },
    {
      "cell_type": "markdown",
      "metadata": {
        "id": "qfqkSOf2ZEB0",
        "colab_type": "text"
      },
      "source": [
        "**Specify picture(one picture)**\n",
        "*   Input: picture name, folder path\n",
        "*   Output path: ./data/result"
      ]
    },
    {
      "cell_type": "code",
      "metadata": {
        "id": "QIEBxJdnhRlv",
        "colab_type": "code",
        "colab": {
          "base_uri": "https://localhost:8080/",
          "height": 52
        },
        "outputId": "c8b87214-6718-4bf2-efd9-b4bf8328225d"
      },
      "source": [
        "name = \"T0001\"\n",
        "file_path = \"./data/val/image\"\n",
        "testGene = testGenerator(name,file_path)\n",
        "\n",
        "model =  Unet(BACKBONE, encoder_weights='imagenet')\n",
        "model.load_weights(\"weight_1.hdf5\")\n",
        "\n",
        "results = model.predict_generator(testGene,1,verbose=1)\n",
        "\n",
        "saveResult(name,\"./data/result\",results)"
      ],
      "execution_count": null,
      "outputs": [
        {
          "output_type": "stream",
          "text": [
            "\r1/1 [==============================] - 5s 5s/step\n"
          ],
          "name": "stdout"
        },
        {
          "output_type": "stream",
          "text": [
            "WARNING:root:Lossy conversion from float32 to uint8. Range [0, 1]. Convert image to uint8 prior to saving to suppress this warning.\n"
          ],
          "name": "stderr"
        }
      ]
    },
    {
      "cell_type": "markdown",
      "metadata": {
        "id": "7M0B0Km3ZSM2",
        "colab_type": "text"
      },
      "source": [
        "**Multi pictures**\n",
        "\n",
        "*   Input: folder path\n",
        "*   Output path: ./data/result\n",
        "\n"
      ]
    },
    {
      "cell_type": "code",
      "metadata": {
        "id": "WGnsWc_RkVgY",
        "colab_type": "code",
        "colab": {
          "base_uri": "https://localhost:8080/",
          "height": 1000
        },
        "outputId": "e0e8d705-ef84-4b70-dad6-34d5fc8daf7e"
      },
      "source": [
        "file_path = \"./data/train/image7\"\n",
        "for fileName in os.listdir(file_path):\n",
        "  newFileName = fileName[0:fileName.find(\".\")]    \n",
        "\n",
        "  testGene = testGenerator(newFileName,file_path)\n",
        "\n",
        "  model =  Unet(BACKBONE, encoder_weights='imagenet')\n",
        "  model.load_weights(\"weight_1.hdf5\")\n",
        "\n",
        "  results = model.predict_generator(testGene,1,verbose=1)\n",
        "\n",
        "  saveResult(newFileName,\"./data/result7\",results)"
      ],
      "execution_count": null,
      "outputs": [
        {
          "output_type": "stream",
          "text": [
            "\r1/1 [==============================] - 4s 4s/step\n"
          ],
          "name": "stdout"
        },
        {
          "output_type": "stream",
          "text": [
            "WARNING:root:Lossy conversion from float32 to uint8. Range [0, 1]. Convert image to uint8 prior to saving to suppress this warning.\n"
          ],
          "name": "stderr"
        },
        {
          "output_type": "stream",
          "text": [
            "\r1/1 [==============================] - 2s 2s/step\n"
          ],
          "name": "stdout"
        },
        {
          "output_type": "stream",
          "text": [
            "WARNING:root:Lossy conversion from float32 to uint8. Range [0, 1]. Convert image to uint8 prior to saving to suppress this warning.\n"
          ],
          "name": "stderr"
        },
        {
          "output_type": "stream",
          "text": [
            "\r1/1 [==============================] - 1s 1s/step\n"
          ],
          "name": "stdout"
        },
        {
          "output_type": "stream",
          "text": [
            "WARNING:root:Lossy conversion from float32 to uint8. Range [0, 1]. Convert image to uint8 prior to saving to suppress this warning.\n"
          ],
          "name": "stderr"
        },
        {
          "output_type": "stream",
          "text": [
            "\r1/1 [==============================] - 1s 1s/step\n"
          ],
          "name": "stdout"
        },
        {
          "output_type": "stream",
          "text": [
            "WARNING:root:Lossy conversion from float32 to uint8. Range [0, 1]. Convert image to uint8 prior to saving to suppress this warning.\n"
          ],
          "name": "stderr"
        },
        {
          "output_type": "stream",
          "text": [
            "\r1/1 [==============================] - 1s 1s/step\n"
          ],
          "name": "stdout"
        },
        {
          "output_type": "stream",
          "text": [
            "WARNING:root:Lossy conversion from float32 to uint8. Range [0, 1]. Convert image to uint8 prior to saving to suppress this warning.\n"
          ],
          "name": "stderr"
        },
        {
          "output_type": "stream",
          "text": [
            "\r1/1 [==============================] - 2s 2s/step\n"
          ],
          "name": "stdout"
        },
        {
          "output_type": "stream",
          "text": [
            "WARNING:root:Lossy conversion from float32 to uint8. Range [0, 1]. Convert image to uint8 prior to saving to suppress this warning.\n"
          ],
          "name": "stderr"
        },
        {
          "output_type": "stream",
          "text": [
            "\r1/1 [==============================] - 1s 1s/step\n"
          ],
          "name": "stdout"
        },
        {
          "output_type": "stream",
          "text": [
            "WARNING:root:Lossy conversion from float32 to uint8. Range [0, 1]. Convert image to uint8 prior to saving to suppress this warning.\n"
          ],
          "name": "stderr"
        },
        {
          "output_type": "stream",
          "text": [
            "\r1/1 [==============================] - 2s 2s/step\n"
          ],
          "name": "stdout"
        },
        {
          "output_type": "stream",
          "text": [
            "WARNING:root:Lossy conversion from float32 to uint8. Range [0, 1]. Convert image to uint8 prior to saving to suppress this warning.\n"
          ],
          "name": "stderr"
        },
        {
          "output_type": "stream",
          "text": [
            "\r1/1 [==============================] - 1s 1s/step\n"
          ],
          "name": "stdout"
        },
        {
          "output_type": "stream",
          "text": [
            "WARNING:root:Lossy conversion from float32 to uint8. Range [0, 1]. Convert image to uint8 prior to saving to suppress this warning.\n"
          ],
          "name": "stderr"
        },
        {
          "output_type": "stream",
          "text": [
            "\r1/1 [==============================] - 1s 1s/step\n"
          ],
          "name": "stdout"
        },
        {
          "output_type": "stream",
          "text": [
            "WARNING:root:Lossy conversion from float32 to uint8. Range [0, 1]. Convert image to uint8 prior to saving to suppress this warning.\n"
          ],
          "name": "stderr"
        },
        {
          "output_type": "stream",
          "text": [
            "\r1/1 [==============================] - 1s 1s/step\n"
          ],
          "name": "stdout"
        },
        {
          "output_type": "stream",
          "text": [
            "WARNING:root:Lossy conversion from float32 to uint8. Range [0, 1]. Convert image to uint8 prior to saving to suppress this warning.\n"
          ],
          "name": "stderr"
        },
        {
          "output_type": "stream",
          "text": [
            "\r1/1 [==============================] - 1s 1s/step\n"
          ],
          "name": "stdout"
        },
        {
          "output_type": "stream",
          "text": [
            "WARNING:root:Lossy conversion from float32 to uint8. Range [0, 1]. Convert image to uint8 prior to saving to suppress this warning.\n"
          ],
          "name": "stderr"
        },
        {
          "output_type": "stream",
          "text": [
            "\r1/1 [==============================] - 2s 2s/step\n"
          ],
          "name": "stdout"
        },
        {
          "output_type": "stream",
          "text": [
            "WARNING:root:Lossy conversion from float32 to uint8. Range [0, 1]. Convert image to uint8 prior to saving to suppress this warning.\n"
          ],
          "name": "stderr"
        },
        {
          "output_type": "stream",
          "text": [
            "\r1/1 [==============================] - 1s 1s/step\n"
          ],
          "name": "stdout"
        },
        {
          "output_type": "stream",
          "text": [
            "WARNING:root:Lossy conversion from float32 to uint8. Range [0, 1]. Convert image to uint8 prior to saving to suppress this warning.\n"
          ],
          "name": "stderr"
        },
        {
          "output_type": "stream",
          "text": [
            "\r1/1 [==============================] - 1s 1s/step\n"
          ],
          "name": "stdout"
        },
        {
          "output_type": "stream",
          "text": [
            "WARNING:root:Lossy conversion from float32 to uint8. Range [0, 1]. Convert image to uint8 prior to saving to suppress this warning.\n"
          ],
          "name": "stderr"
        },
        {
          "output_type": "stream",
          "text": [
            "\r1/1 [==============================] - 1s 1s/step\n"
          ],
          "name": "stdout"
        },
        {
          "output_type": "stream",
          "text": [
            "WARNING:root:Lossy conversion from float32 to uint8. Range [0, 1]. Convert image to uint8 prior to saving to suppress this warning.\n"
          ],
          "name": "stderr"
        },
        {
          "output_type": "stream",
          "text": [
            "\r1/1 [==============================] - 1s 1s/step\n"
          ],
          "name": "stdout"
        },
        {
          "output_type": "stream",
          "text": [
            "WARNING:root:Lossy conversion from float32 to uint8. Range [0, 1]. Convert image to uint8 prior to saving to suppress this warning.\n"
          ],
          "name": "stderr"
        },
        {
          "output_type": "stream",
          "text": [
            "\r1/1 [==============================] - 1s 1s/step\n"
          ],
          "name": "stdout"
        },
        {
          "output_type": "stream",
          "text": [
            "WARNING:root:Lossy conversion from float32 to uint8. Range [0, 1]. Convert image to uint8 prior to saving to suppress this warning.\n"
          ],
          "name": "stderr"
        },
        {
          "output_type": "stream",
          "text": [
            "\r1/1 [==============================] - 1s 1s/step\n"
          ],
          "name": "stdout"
        },
        {
          "output_type": "stream",
          "text": [
            "WARNING:root:Lossy conversion from float32 to uint8. Range [0, 1]. Convert image to uint8 prior to saving to suppress this warning.\n"
          ],
          "name": "stderr"
        },
        {
          "output_type": "stream",
          "text": [
            "\r1/1 [==============================] - 1s 1s/step\n"
          ],
          "name": "stdout"
        },
        {
          "output_type": "stream",
          "text": [
            "WARNING:root:Lossy conversion from float32 to uint8. Range [0, 1]. Convert image to uint8 prior to saving to suppress this warning.\n"
          ],
          "name": "stderr"
        },
        {
          "output_type": "stream",
          "text": [
            "\r1/1 [==============================] - 1s 1s/step\n"
          ],
          "name": "stdout"
        },
        {
          "output_type": "stream",
          "text": [
            "WARNING:root:Lossy conversion from float32 to uint8. Range [0, 1]. Convert image to uint8 prior to saving to suppress this warning.\n"
          ],
          "name": "stderr"
        },
        {
          "output_type": "stream",
          "text": [
            "\r1/1 [==============================] - 2s 2s/step\n"
          ],
          "name": "stdout"
        },
        {
          "output_type": "stream",
          "text": [
            "WARNING:root:Lossy conversion from float32 to uint8. Range [0, 1]. Convert image to uint8 prior to saving to suppress this warning.\n"
          ],
          "name": "stderr"
        },
        {
          "output_type": "stream",
          "text": [
            "\r1/1 [==============================] - 1s 1s/step\n"
          ],
          "name": "stdout"
        },
        {
          "output_type": "stream",
          "text": [
            "WARNING:root:Lossy conversion from float32 to uint8. Range [0, 1]. Convert image to uint8 prior to saving to suppress this warning.\n"
          ],
          "name": "stderr"
        },
        {
          "output_type": "stream",
          "text": [
            "\r1/1 [==============================] - 2s 2s/step\n"
          ],
          "name": "stdout"
        },
        {
          "output_type": "stream",
          "text": [
            "WARNING:root:Lossy conversion from float32 to uint8. Range [0, 1]. Convert image to uint8 prior to saving to suppress this warning.\n"
          ],
          "name": "stderr"
        },
        {
          "output_type": "stream",
          "text": [
            "\r1/1 [==============================] - 1s 1s/step\n"
          ],
          "name": "stdout"
        },
        {
          "output_type": "stream",
          "text": [
            "WARNING:root:Lossy conversion from float32 to uint8. Range [0, 1]. Convert image to uint8 prior to saving to suppress this warning.\n"
          ],
          "name": "stderr"
        },
        {
          "output_type": "stream",
          "text": [
            "\r1/1 [==============================] - 1s 1s/step\n"
          ],
          "name": "stdout"
        },
        {
          "output_type": "stream",
          "text": [
            "WARNING:root:Lossy conversion from float32 to uint8. Range [0, 1]. Convert image to uint8 prior to saving to suppress this warning.\n"
          ],
          "name": "stderr"
        },
        {
          "output_type": "stream",
          "text": [
            "\r1/1 [==============================] - 1s 1s/step\n"
          ],
          "name": "stdout"
        },
        {
          "output_type": "stream",
          "text": [
            "WARNING:root:Lossy conversion from float32 to uint8. Range [0, 1]. Convert image to uint8 prior to saving to suppress this warning.\n"
          ],
          "name": "stderr"
        },
        {
          "output_type": "stream",
          "text": [
            "\r1/1 [==============================] - 1s 1s/step\n"
          ],
          "name": "stdout"
        },
        {
          "output_type": "stream",
          "text": [
            "WARNING:root:Lossy conversion from float32 to uint8. Range [0, 1]. Convert image to uint8 prior to saving to suppress this warning.\n"
          ],
          "name": "stderr"
        },
        {
          "output_type": "stream",
          "text": [
            "\r1/1 [==============================] - 1s 1s/step\n"
          ],
          "name": "stdout"
        },
        {
          "output_type": "stream",
          "text": [
            "WARNING:root:Lossy conversion from float32 to uint8. Range [0, 1]. Convert image to uint8 prior to saving to suppress this warning.\n"
          ],
          "name": "stderr"
        },
        {
          "output_type": "stream",
          "text": [
            "\r1/1 [==============================] - 1s 1s/step\n"
          ],
          "name": "stdout"
        },
        {
          "output_type": "stream",
          "text": [
            "WARNING:root:Lossy conversion from float32 to uint8. Range [0, 1]. Convert image to uint8 prior to saving to suppress this warning.\n"
          ],
          "name": "stderr"
        },
        {
          "output_type": "stream",
          "text": [
            "\r1/1 [==============================] - 1s 1s/step\n"
          ],
          "name": "stdout"
        },
        {
          "output_type": "stream",
          "text": [
            "WARNING:root:Lossy conversion from float32 to uint8. Range [0, 1]. Convert image to uint8 prior to saving to suppress this warning.\n"
          ],
          "name": "stderr"
        },
        {
          "output_type": "stream",
          "text": [
            "\r1/1 [==============================] - 1s 1s/step\n"
          ],
          "name": "stdout"
        },
        {
          "output_type": "stream",
          "text": [
            "WARNING:root:Lossy conversion from float32 to uint8. Range [0, 1]. Convert image to uint8 prior to saving to suppress this warning.\n"
          ],
          "name": "stderr"
        },
        {
          "output_type": "stream",
          "text": [
            "\r1/1 [==============================] - 1s 1s/step\n"
          ],
          "name": "stdout"
        },
        {
          "output_type": "stream",
          "text": [
            "WARNING:root:Lossy conversion from float32 to uint8. Range [0, 1]. Convert image to uint8 prior to saving to suppress this warning.\n"
          ],
          "name": "stderr"
        },
        {
          "output_type": "stream",
          "text": [
            "\r1/1 [==============================] - 1s 1s/step\n"
          ],
          "name": "stdout"
        },
        {
          "output_type": "stream",
          "text": [
            "WARNING:root:Lossy conversion from float32 to uint8. Range [0, 1]. Convert image to uint8 prior to saving to suppress this warning.\n"
          ],
          "name": "stderr"
        },
        {
          "output_type": "stream",
          "text": [
            "\r1/1 [==============================] - 1s 1s/step\n"
          ],
          "name": "stdout"
        },
        {
          "output_type": "stream",
          "text": [
            "WARNING:root:Lossy conversion from float32 to uint8. Range [0, 1]. Convert image to uint8 prior to saving to suppress this warning.\n"
          ],
          "name": "stderr"
        },
        {
          "output_type": "stream",
          "text": [
            "\r1/1 [==============================] - 1s 1s/step\n"
          ],
          "name": "stdout"
        },
        {
          "output_type": "stream",
          "text": [
            "WARNING:root:Lossy conversion from float32 to uint8. Range [0, 1]. Convert image to uint8 prior to saving to suppress this warning.\n"
          ],
          "name": "stderr"
        },
        {
          "output_type": "stream",
          "text": [
            "\r1/1 [==============================] - 1s 1s/step\n"
          ],
          "name": "stdout"
        },
        {
          "output_type": "stream",
          "text": [
            "WARNING:root:Lossy conversion from float32 to uint8. Range [0, 1]. Convert image to uint8 prior to saving to suppress this warning.\n"
          ],
          "name": "stderr"
        },
        {
          "output_type": "stream",
          "text": [
            "\r1/1 [==============================] - 1s 1s/step\n"
          ],
          "name": "stdout"
        },
        {
          "output_type": "stream",
          "text": [
            "WARNING:root:Lossy conversion from float32 to uint8. Range [0, 1]. Convert image to uint8 prior to saving to suppress this warning.\n"
          ],
          "name": "stderr"
        },
        {
          "output_type": "stream",
          "text": [
            "\r1/1 [==============================] - 1s 1s/step\n"
          ],
          "name": "stdout"
        },
        {
          "output_type": "stream",
          "text": [
            "WARNING:root:Lossy conversion from float32 to uint8. Range [0, 1]. Convert image to uint8 prior to saving to suppress this warning.\n"
          ],
          "name": "stderr"
        },
        {
          "output_type": "stream",
          "text": [
            "\r1/1 [==============================] - 1s 1s/step\n"
          ],
          "name": "stdout"
        },
        {
          "output_type": "stream",
          "text": [
            "WARNING:root:Lossy conversion from float32 to uint8. Range [0, 1]. Convert image to uint8 prior to saving to suppress this warning.\n"
          ],
          "name": "stderr"
        },
        {
          "output_type": "stream",
          "text": [
            "\r1/1 [==============================] - 1s 1s/step\n"
          ],
          "name": "stdout"
        },
        {
          "output_type": "stream",
          "text": [
            "WARNING:root:Lossy conversion from float32 to uint8. Range [0, 1]. Convert image to uint8 prior to saving to suppress this warning.\n"
          ],
          "name": "stderr"
        },
        {
          "output_type": "stream",
          "text": [
            "\r1/1 [==============================] - 1s 1s/step\n"
          ],
          "name": "stdout"
        },
        {
          "output_type": "stream",
          "text": [
            "WARNING:root:Lossy conversion from float32 to uint8. Range [0, 1]. Convert image to uint8 prior to saving to suppress this warning.\n"
          ],
          "name": "stderr"
        },
        {
          "output_type": "stream",
          "text": [
            "\r1/1 [==============================] - 1s 1s/step\n"
          ],
          "name": "stdout"
        },
        {
          "output_type": "stream",
          "text": [
            "WARNING:root:Lossy conversion from float32 to uint8. Range [0, 1]. Convert image to uint8 prior to saving to suppress this warning.\n"
          ],
          "name": "stderr"
        },
        {
          "output_type": "stream",
          "text": [
            "\r1/1 [==============================] - 1s 1s/step\n"
          ],
          "name": "stdout"
        },
        {
          "output_type": "stream",
          "text": [
            "WARNING:root:Lossy conversion from float32 to uint8. Range [0, 1]. Convert image to uint8 prior to saving to suppress this warning.\n"
          ],
          "name": "stderr"
        },
        {
          "output_type": "stream",
          "text": [
            "\r1/1 [==============================] - 1s 1s/step\n"
          ],
          "name": "stdout"
        },
        {
          "output_type": "stream",
          "text": [
            "WARNING:root:Lossy conversion from float32 to uint8. Range [0, 1]. Convert image to uint8 prior to saving to suppress this warning.\n"
          ],
          "name": "stderr"
        },
        {
          "output_type": "stream",
          "text": [
            "\r1/1 [==============================] - 1s 1s/step\n"
          ],
          "name": "stdout"
        },
        {
          "output_type": "stream",
          "text": [
            "WARNING:root:Lossy conversion from float32 to uint8. Range [0, 1]. Convert image to uint8 prior to saving to suppress this warning.\n"
          ],
          "name": "stderr"
        },
        {
          "output_type": "stream",
          "text": [
            "\r1/1 [==============================] - 1s 1s/step\n"
          ],
          "name": "stdout"
        },
        {
          "output_type": "stream",
          "text": [
            "WARNING:root:Lossy conversion from float32 to uint8. Range [0, 1]. Convert image to uint8 prior to saving to suppress this warning.\n"
          ],
          "name": "stderr"
        },
        {
          "output_type": "stream",
          "text": [
            "\r1/1 [==============================] - 1s 1s/step\n"
          ],
          "name": "stdout"
        },
        {
          "output_type": "stream",
          "text": [
            "WARNING:root:Lossy conversion from float32 to uint8. Range [0, 1]. Convert image to uint8 prior to saving to suppress this warning.\n"
          ],
          "name": "stderr"
        },
        {
          "output_type": "stream",
          "text": [
            "\r1/1 [==============================] - 1s 1s/step\n"
          ],
          "name": "stdout"
        },
        {
          "output_type": "stream",
          "text": [
            "WARNING:root:Lossy conversion from float32 to uint8. Range [0, 1]. Convert image to uint8 prior to saving to suppress this warning.\n"
          ],
          "name": "stderr"
        },
        {
          "output_type": "stream",
          "text": [
            "\r1/1 [==============================] - 2s 2s/step\n"
          ],
          "name": "stdout"
        },
        {
          "output_type": "stream",
          "text": [
            "WARNING:root:Lossy conversion from float32 to uint8. Range [0, 1]. Convert image to uint8 prior to saving to suppress this warning.\n"
          ],
          "name": "stderr"
        },
        {
          "output_type": "stream",
          "text": [
            "\r1/1 [==============================] - 1s 1s/step\n"
          ],
          "name": "stdout"
        },
        {
          "output_type": "stream",
          "text": [
            "WARNING:root:Lossy conversion from float32 to uint8. Range [0, 1]. Convert image to uint8 prior to saving to suppress this warning.\n"
          ],
          "name": "stderr"
        },
        {
          "output_type": "stream",
          "text": [
            "\r1/1 [==============================] - 1s 1s/step\n"
          ],
          "name": "stdout"
        },
        {
          "output_type": "stream",
          "text": [
            "WARNING:root:Lossy conversion from float32 to uint8. Range [0, 1]. Convert image to uint8 prior to saving to suppress this warning.\n"
          ],
          "name": "stderr"
        },
        {
          "output_type": "stream",
          "text": [
            "\r1/1 [==============================] - 1s 1s/step\n"
          ],
          "name": "stdout"
        },
        {
          "output_type": "stream",
          "text": [
            "WARNING:root:Lossy conversion from float32 to uint8. Range [0, 1]. Convert image to uint8 prior to saving to suppress this warning.\n"
          ],
          "name": "stderr"
        },
        {
          "output_type": "stream",
          "text": [
            "\r1/1 [==============================] - 1s 1s/step\n"
          ],
          "name": "stdout"
        },
        {
          "output_type": "stream",
          "text": [
            "WARNING:root:Lossy conversion from float32 to uint8. Range [0, 1]. Convert image to uint8 prior to saving to suppress this warning.\n"
          ],
          "name": "stderr"
        },
        {
          "output_type": "stream",
          "text": [
            "\r1/1 [==============================] - 1s 1s/step\n"
          ],
          "name": "stdout"
        },
        {
          "output_type": "stream",
          "text": [
            "WARNING:root:Lossy conversion from float32 to uint8. Range [0, 1]. Convert image to uint8 prior to saving to suppress this warning.\n"
          ],
          "name": "stderr"
        },
        {
          "output_type": "stream",
          "text": [
            "\r1/1 [==============================] - 2s 2s/step\n"
          ],
          "name": "stdout"
        },
        {
          "output_type": "stream",
          "text": [
            "WARNING:root:Lossy conversion from float32 to uint8. Range [0, 1]. Convert image to uint8 prior to saving to suppress this warning.\n"
          ],
          "name": "stderr"
        },
        {
          "output_type": "stream",
          "text": [
            "\r1/1 [==============================] - 1s 1s/step\n"
          ],
          "name": "stdout"
        },
        {
          "output_type": "stream",
          "text": [
            "WARNING:root:Lossy conversion from float32 to uint8. Range [0, 1]. Convert image to uint8 prior to saving to suppress this warning.\n"
          ],
          "name": "stderr"
        },
        {
          "output_type": "stream",
          "text": [
            "\r1/1 [==============================] - 1s 1s/step\n"
          ],
          "name": "stdout"
        },
        {
          "output_type": "stream",
          "text": [
            "WARNING:root:Lossy conversion from float32 to uint8. Range [0, 1]. Convert image to uint8 prior to saving to suppress this warning.\n"
          ],
          "name": "stderr"
        },
        {
          "output_type": "stream",
          "text": [
            "\r1/1 [==============================] - 2s 2s/step\n"
          ],
          "name": "stdout"
        },
        {
          "output_type": "stream",
          "text": [
            "WARNING:root:Lossy conversion from float32 to uint8. Range [0, 1]. Convert image to uint8 prior to saving to suppress this warning.\n"
          ],
          "name": "stderr"
        },
        {
          "output_type": "stream",
          "text": [
            "\r1/1 [==============================] - 2s 2s/step\n"
          ],
          "name": "stdout"
        },
        {
          "output_type": "stream",
          "text": [
            "WARNING:root:Lossy conversion from float32 to uint8. Range [0, 1]. Convert image to uint8 prior to saving to suppress this warning.\n"
          ],
          "name": "stderr"
        },
        {
          "output_type": "stream",
          "text": [
            "\r1/1 [==============================] - 1s 1s/step\n"
          ],
          "name": "stdout"
        },
        {
          "output_type": "stream",
          "text": [
            "WARNING:root:Lossy conversion from float32 to uint8. Range [0, 1]. Convert image to uint8 prior to saving to suppress this warning.\n"
          ],
          "name": "stderr"
        },
        {
          "output_type": "stream",
          "text": [
            "\r1/1 [==============================] - 1s 1s/step\n"
          ],
          "name": "stdout"
        },
        {
          "output_type": "stream",
          "text": [
            "WARNING:root:Lossy conversion from float32 to uint8. Range [0, 1]. Convert image to uint8 prior to saving to suppress this warning.\n"
          ],
          "name": "stderr"
        },
        {
          "output_type": "stream",
          "text": [
            "\r1/1 [==============================] - 2s 2s/step\n"
          ],
          "name": "stdout"
        },
        {
          "output_type": "stream",
          "text": [
            "WARNING:root:Lossy conversion from float32 to uint8. Range [0, 1]. Convert image to uint8 prior to saving to suppress this warning.\n"
          ],
          "name": "stderr"
        },
        {
          "output_type": "stream",
          "text": [
            "\r1/1 [==============================] - 1s 1s/step\n"
          ],
          "name": "stdout"
        },
        {
          "output_type": "stream",
          "text": [
            "WARNING:root:Lossy conversion from float32 to uint8. Range [0, 1]. Convert image to uint8 prior to saving to suppress this warning.\n"
          ],
          "name": "stderr"
        },
        {
          "output_type": "stream",
          "text": [
            "\r1/1 [==============================] - 1s 1s/step\n"
          ],
          "name": "stdout"
        },
        {
          "output_type": "stream",
          "text": [
            "WARNING:root:Lossy conversion from float32 to uint8. Range [0, 1]. Convert image to uint8 prior to saving to suppress this warning.\n"
          ],
          "name": "stderr"
        },
        {
          "output_type": "stream",
          "text": [
            "\r1/1 [==============================] - 1s 1s/step\n"
          ],
          "name": "stdout"
        },
        {
          "output_type": "stream",
          "text": [
            "WARNING:root:Lossy conversion from float32 to uint8. Range [0, 1]. Convert image to uint8 prior to saving to suppress this warning.\n"
          ],
          "name": "stderr"
        },
        {
          "output_type": "stream",
          "text": [
            "\r1/1 [==============================] - 1s 1s/step\n"
          ],
          "name": "stdout"
        },
        {
          "output_type": "stream",
          "text": [
            "WARNING:root:Lossy conversion from float32 to uint8. Range [0, 1]. Convert image to uint8 prior to saving to suppress this warning.\n"
          ],
          "name": "stderr"
        },
        {
          "output_type": "stream",
          "text": [
            "\r1/1 [==============================] - 1s 1s/step\n"
          ],
          "name": "stdout"
        },
        {
          "output_type": "stream",
          "text": [
            "WARNING:root:Lossy conversion from float32 to uint8. Range [0, 1]. Convert image to uint8 prior to saving to suppress this warning.\n"
          ],
          "name": "stderr"
        },
        {
          "output_type": "stream",
          "text": [
            "\r1/1 [==============================] - 2s 2s/step\n"
          ],
          "name": "stdout"
        },
        {
          "output_type": "stream",
          "text": [
            "WARNING:root:Lossy conversion from float32 to uint8. Range [0, 1]. Convert image to uint8 prior to saving to suppress this warning.\n"
          ],
          "name": "stderr"
        },
        {
          "output_type": "stream",
          "text": [
            "\r1/1 [==============================] - 2s 2s/step\n"
          ],
          "name": "stdout"
        },
        {
          "output_type": "stream",
          "text": [
            "WARNING:root:Lossy conversion from float32 to uint8. Range [0, 1]. Convert image to uint8 prior to saving to suppress this warning.\n"
          ],
          "name": "stderr"
        },
        {
          "output_type": "stream",
          "text": [
            "\r1/1 [==============================] - 1s 1s/step\n"
          ],
          "name": "stdout"
        },
        {
          "output_type": "stream",
          "text": [
            "WARNING:root:Lossy conversion from float32 to uint8. Range [0, 1]. Convert image to uint8 prior to saving to suppress this warning.\n"
          ],
          "name": "stderr"
        },
        {
          "output_type": "stream",
          "text": [
            "\r1/1 [==============================] - 1s 1s/step\n"
          ],
          "name": "stdout"
        },
        {
          "output_type": "stream",
          "text": [
            "WARNING:root:Lossy conversion from float32 to uint8. Range [0, 1]. Convert image to uint8 prior to saving to suppress this warning.\n"
          ],
          "name": "stderr"
        },
        {
          "output_type": "stream",
          "text": [
            "\r1/1 [==============================] - 1s 1s/step\n"
          ],
          "name": "stdout"
        },
        {
          "output_type": "stream",
          "text": [
            "WARNING:root:Lossy conversion from float32 to uint8. Range [0, 1]. Convert image to uint8 prior to saving to suppress this warning.\n"
          ],
          "name": "stderr"
        },
        {
          "output_type": "stream",
          "text": [
            "\r1/1 [==============================] - 1s 1s/step\n"
          ],
          "name": "stdout"
        },
        {
          "output_type": "stream",
          "text": [
            "WARNING:root:Lossy conversion from float32 to uint8. Range [0, 1]. Convert image to uint8 prior to saving to suppress this warning.\n"
          ],
          "name": "stderr"
        },
        {
          "output_type": "stream",
          "text": [
            "\r1/1 [==============================] - 1s 1s/step\n"
          ],
          "name": "stdout"
        },
        {
          "output_type": "stream",
          "text": [
            "WARNING:root:Lossy conversion from float32 to uint8. Range [0, 1]. Convert image to uint8 prior to saving to suppress this warning.\n"
          ],
          "name": "stderr"
        },
        {
          "output_type": "stream",
          "text": [
            "\r1/1 [==============================] - 1s 1s/step\n"
          ],
          "name": "stdout"
        },
        {
          "output_type": "stream",
          "text": [
            "WARNING:root:Lossy conversion from float32 to uint8. Range [0, 1]. Convert image to uint8 prior to saving to suppress this warning.\n"
          ],
          "name": "stderr"
        },
        {
          "output_type": "stream",
          "text": [
            "\r1/1 [==============================] - 1s 1s/step\n"
          ],
          "name": "stdout"
        },
        {
          "output_type": "stream",
          "text": [
            "WARNING:root:Lossy conversion from float32 to uint8. Range [0, 1]. Convert image to uint8 prior to saving to suppress this warning.\n"
          ],
          "name": "stderr"
        },
        {
          "output_type": "stream",
          "text": [
            "\r1/1 [==============================] - 1s 1s/step\n"
          ],
          "name": "stdout"
        },
        {
          "output_type": "stream",
          "text": [
            "WARNING:root:Lossy conversion from float32 to uint8. Range [0, 1]. Convert image to uint8 prior to saving to suppress this warning.\n"
          ],
          "name": "stderr"
        },
        {
          "output_type": "stream",
          "text": [
            "\r1/1 [==============================] - 1s 1s/step\n"
          ],
          "name": "stdout"
        },
        {
          "output_type": "stream",
          "text": [
            "WARNING:root:Lossy conversion from float32 to uint8. Range [0, 1]. Convert image to uint8 prior to saving to suppress this warning.\n"
          ],
          "name": "stderr"
        },
        {
          "output_type": "stream",
          "text": [
            "\r1/1 [==============================] - 2s 2s/step\n"
          ],
          "name": "stdout"
        },
        {
          "output_type": "stream",
          "text": [
            "WARNING:root:Lossy conversion from float32 to uint8. Range [0, 1]. Convert image to uint8 prior to saving to suppress this warning.\n"
          ],
          "name": "stderr"
        },
        {
          "output_type": "stream",
          "text": [
            "\r1/1 [==============================] - 2s 2s/step\n"
          ],
          "name": "stdout"
        },
        {
          "output_type": "stream",
          "text": [
            "WARNING:root:Lossy conversion from float32 to uint8. Range [0, 1]. Convert image to uint8 prior to saving to suppress this warning.\n"
          ],
          "name": "stderr"
        },
        {
          "output_type": "stream",
          "text": [
            "\r1/1 [==============================] - 1s 1s/step\n"
          ],
          "name": "stdout"
        },
        {
          "output_type": "stream",
          "text": [
            "WARNING:root:Lossy conversion from float32 to uint8. Range [0, 1]. Convert image to uint8 prior to saving to suppress this warning.\n"
          ],
          "name": "stderr"
        },
        {
          "output_type": "stream",
          "text": [
            "\r1/1 [==============================] - 1s 1s/step\n"
          ],
          "name": "stdout"
        },
        {
          "output_type": "stream",
          "text": [
            "WARNING:root:Lossy conversion from float32 to uint8. Range [0, 1]. Convert image to uint8 prior to saving to suppress this warning.\n"
          ],
          "name": "stderr"
        },
        {
          "output_type": "stream",
          "text": [
            "\r1/1 [==============================] - 1s 1s/step\n"
          ],
          "name": "stdout"
        },
        {
          "output_type": "stream",
          "text": [
            "WARNING:root:Lossy conversion from float32 to uint8. Range [0, 1]. Convert image to uint8 prior to saving to suppress this warning.\n"
          ],
          "name": "stderr"
        },
        {
          "output_type": "stream",
          "text": [
            "\r1/1 [==============================] - 1s 1s/step\n"
          ],
          "name": "stdout"
        },
        {
          "output_type": "stream",
          "text": [
            "WARNING:root:Lossy conversion from float32 to uint8. Range [0, 1]. Convert image to uint8 prior to saving to suppress this warning.\n"
          ],
          "name": "stderr"
        },
        {
          "output_type": "stream",
          "text": [
            "\r1/1 [==============================] - 1s 1s/step\n"
          ],
          "name": "stdout"
        },
        {
          "output_type": "stream",
          "text": [
            "WARNING:root:Lossy conversion from float32 to uint8. Range [0, 1]. Convert image to uint8 prior to saving to suppress this warning.\n"
          ],
          "name": "stderr"
        },
        {
          "output_type": "stream",
          "text": [
            "\r1/1 [==============================] - 1s 1s/step\n"
          ],
          "name": "stdout"
        },
        {
          "output_type": "stream",
          "text": [
            "WARNING:root:Lossy conversion from float32 to uint8. Range [0, 1]. Convert image to uint8 prior to saving to suppress this warning.\n"
          ],
          "name": "stderr"
        },
        {
          "output_type": "stream",
          "text": [
            "\r1/1 [==============================] - 1s 1s/step\n"
          ],
          "name": "stdout"
        },
        {
          "output_type": "stream",
          "text": [
            "WARNING:root:Lossy conversion from float32 to uint8. Range [0, 1]. Convert image to uint8 prior to saving to suppress this warning.\n"
          ],
          "name": "stderr"
        },
        {
          "output_type": "stream",
          "text": [
            "\r1/1 [==============================] - 1s 1s/step\n"
          ],
          "name": "stdout"
        },
        {
          "output_type": "stream",
          "text": [
            "WARNING:root:Lossy conversion from float32 to uint8. Range [0, 1]. Convert image to uint8 prior to saving to suppress this warning.\n"
          ],
          "name": "stderr"
        },
        {
          "output_type": "stream",
          "text": [
            "\r1/1 [==============================] - 1s 1s/step\n"
          ],
          "name": "stdout"
        },
        {
          "output_type": "stream",
          "text": [
            "WARNING:root:Lossy conversion from float32 to uint8. Range [0, 1]. Convert image to uint8 prior to saving to suppress this warning.\n"
          ],
          "name": "stderr"
        },
        {
          "output_type": "stream",
          "text": [
            "\r1/1 [==============================] - 2s 2s/step\n"
          ],
          "name": "stdout"
        },
        {
          "output_type": "stream",
          "text": [
            "WARNING:root:Lossy conversion from float32 to uint8. Range [0, 1]. Convert image to uint8 prior to saving to suppress this warning.\n"
          ],
          "name": "stderr"
        },
        {
          "output_type": "stream",
          "text": [
            "\r1/1 [==============================] - 2s 2s/step\n"
          ],
          "name": "stdout"
        },
        {
          "output_type": "stream",
          "text": [
            "WARNING:root:Lossy conversion from float32 to uint8. Range [0, 1]. Convert image to uint8 prior to saving to suppress this warning.\n"
          ],
          "name": "stderr"
        },
        {
          "output_type": "stream",
          "text": [
            "\r1/1 [==============================] - 2s 2s/step\n"
          ],
          "name": "stdout"
        },
        {
          "output_type": "stream",
          "text": [
            "WARNING:root:Lossy conversion from float32 to uint8. Range [0, 1]. Convert image to uint8 prior to saving to suppress this warning.\n"
          ],
          "name": "stderr"
        },
        {
          "output_type": "stream",
          "text": [
            "\r1/1 [==============================] - 2s 2s/step\n"
          ],
          "name": "stdout"
        },
        {
          "output_type": "stream",
          "text": [
            "WARNING:root:Lossy conversion from float32 to uint8. Range [0, 1]. Convert image to uint8 prior to saving to suppress this warning.\n"
          ],
          "name": "stderr"
        },
        {
          "output_type": "stream",
          "text": [
            "\r1/1 [==============================] - 1s 1s/step\n"
          ],
          "name": "stdout"
        },
        {
          "output_type": "stream",
          "text": [
            "WARNING:root:Lossy conversion from float32 to uint8. Range [0, 1]. Convert image to uint8 prior to saving to suppress this warning.\n"
          ],
          "name": "stderr"
        },
        {
          "output_type": "stream",
          "text": [
            "\r1/1 [==============================] - 1s 1s/step\n"
          ],
          "name": "stdout"
        },
        {
          "output_type": "stream",
          "text": [
            "WARNING:root:Lossy conversion from float32 to uint8. Range [0, 1]. Convert image to uint8 prior to saving to suppress this warning.\n"
          ],
          "name": "stderr"
        },
        {
          "output_type": "stream",
          "text": [
            "\r1/1 [==============================] - 1s 1s/step\n"
          ],
          "name": "stdout"
        },
        {
          "output_type": "stream",
          "text": [
            "WARNING:root:Lossy conversion from float32 to uint8. Range [0, 1]. Convert image to uint8 prior to saving to suppress this warning.\n"
          ],
          "name": "stderr"
        },
        {
          "output_type": "stream",
          "text": [
            "\r1/1 [==============================] - 1s 1s/step\n"
          ],
          "name": "stdout"
        },
        {
          "output_type": "stream",
          "text": [
            "WARNING:root:Lossy conversion from float32 to uint8. Range [0, 1]. Convert image to uint8 prior to saving to suppress this warning.\n"
          ],
          "name": "stderr"
        },
        {
          "output_type": "stream",
          "text": [
            "\r1/1 [==============================] - 1s 1s/step\n"
          ],
          "name": "stdout"
        },
        {
          "output_type": "stream",
          "text": [
            "WARNING:root:Lossy conversion from float32 to uint8. Range [0, 1]. Convert image to uint8 prior to saving to suppress this warning.\n"
          ],
          "name": "stderr"
        },
        {
          "output_type": "stream",
          "text": [
            "\r1/1 [==============================] - 1s 1s/step\n"
          ],
          "name": "stdout"
        },
        {
          "output_type": "stream",
          "text": [
            "WARNING:root:Lossy conversion from float32 to uint8. Range [0, 1]. Convert image to uint8 prior to saving to suppress this warning.\n"
          ],
          "name": "stderr"
        }
      ]
    },
    {
      "cell_type": "markdown",
      "metadata": {
        "id": "cwYfRv2vWZlI",
        "colab_type": "text"
      },
      "source": [
        "# **ROI detect**"
      ]
    },
    {
      "cell_type": "code",
      "metadata": {
        "id": "-bDDobqOlKVw",
        "colab_type": "code",
        "colab": {
          "base_uri": "https://localhost:8080/",
          "height": 52
        },
        "outputId": "8fe2d844-eb8b-47be-9316-715ba34af6bc"
      },
      "source": [
        "import cv2\n",
        "import numpy\n",
        "\n",
        "image_name = \"T0001\"\n",
        "image_path = \"./data/test\"\n",
        "path = os.path.join(image_path,\"%s.png\"%image_name)\n",
        "image = cv2.imread(path)\n",
        "image = cv2.cvtColor(image,cv2.COLOR_BGR2RGB)\n",
        "print(image.shape)\n",
        "print(image.size)"
      ],
      "execution_count": null,
      "outputs": [
        {
          "output_type": "stream",
          "text": [
            "(512, 512, 3)\n",
            "786432\n"
          ],
          "name": "stdout"
        }
      ]
    },
    {
      "cell_type": "code",
      "metadata": {
        "id": "qmkzy-hrWnOe",
        "colab_type": "code",
        "colab": {
          "base_uri": "https://localhost:8080/",
          "height": 52
        },
        "outputId": "b0c8552a-c8b5-4931-b7ca-f7b59b83e709"
      },
      "source": [
        "mask_name = \"T0001_predict\"\n",
        "mask_path = \"./data/test\"\n",
        "path = os.path.join(mask_path,\"%s.png\"%mask_name)\n",
        "mask = cv2.imread(path)\n",
        "mask = cv2.cvtColor(mask,cv2.IMREAD_GRAYSCALE)\n",
        "print(mask.shape)\n",
        "print(mask.size)"
      ],
      "execution_count": null,
      "outputs": [
        {
          "output_type": "stream",
          "text": [
            "(512, 512, 4)\n",
            "1048576\n"
          ],
          "name": "stdout"
        }
      ]
    },
    {
      "cell_type": "markdown",
      "metadata": {
        "id": "wqI1HOHV-84n",
        "colab_type": "text"
      },
      "source": [
        "**Single image for test**\n",
        "\n",
        "*   Input: full pathes of image and mask \n",
        "*   Output: ROI and image with highlight\n",
        "\n"
      ]
    },
    {
      "cell_type": "code",
      "metadata": {
        "id": "QeDUzVC-Wv_O",
        "colab_type": "code",
        "colab": {
          "base_uri": "https://localhost:8080/",
          "height": 34
        },
        "outputId": "b36a7956-1d0d-40a1-c062-88aac70d25b7"
      },
      "source": [
        "import numpy as np\n",
        "import cv2\n",
        "\n",
        "\n",
        "original_mask = cv2.imread(\"./data/test/T0001_predict.png\")\n",
        "original_image = cv2.imread(\"./data/test/T0001.png\")\n",
        "mask = original_mask.copy()\n",
        "image = original_image.copy()\n",
        "gray = cv2.cvtColor(mask, cv2.COLOR_BGR2GRAY)\n",
        "blurred = cv2.GaussianBlur(gray, (3, 3), 0)\n",
        "canny = cv2.Canny(blurred, 120, 255, 1)\n",
        "\n",
        "# Find contours in the image\n",
        "cnts = cv2.findContours(canny.copy(), cv2.RETR_TREE, cv2.CHAIN_APPROX_SIMPLE)\n",
        "cnts = cnts[0] if len(cnts) == 2 else cnts[1]\n",
        "\n",
        "# Obtain area for each contour\n",
        "contour_sizes = [(cv2.contourArea(contour), contour) for contour in cnts]\n",
        "\n",
        "# Find maximum contour and crop for ROI section\n",
        "if len(contour_sizes) > 0:\n",
        "    largest_contour = max(contour_sizes, key=lambda x: x[0])[1]\n",
        "    x,y,w,h = cv2.boundingRect(largest_contour)\n",
        "    cv2.rectangle(image, (x, y), (x + w, y + h), (36,255,12), 2)\n",
        "    ROI = original_image[y:y+h, x:x+w]\n",
        "    ROI = cv2.resize(ROI,(512,512), interpolation=cv2.INTER_CUBIC) \n",
        "    #cv2.imshow(\"ROI\", ROI) \n",
        "    cv2.imwrite('./data/test/ROI.png', ROI, [cv2.IMWRITE_PNG_COMPRESSION, 0])\n",
        "\n",
        "#cv2.imshow(\"canny\", canny) \n",
        "#cv2.imwrite('./data/test/canny.png', canny, [cv2.IMWRITE_PNG_COMPRESSION, 0])\n",
        "#cv2.imshow(\"detected\", mask) \n",
        "cv2.imwrite('./data/test/detected.png', image, [cv2.IMWRITE_PNG_COMPRESSION, 0])\n",
        "\n",
        "cv2.imwrite('./data/test/blurred.png',blurred, [cv2.IMWRITE_PNG_COMPRESSION, 0])\n",
        "\n",
        "#cv2.waitKey(0)"
      ],
      "execution_count": null,
      "outputs": [
        {
          "output_type": "execute_result",
          "data": {
            "text/plain": [
              "True"
            ]
          },
          "metadata": {
            "tags": []
          },
          "execution_count": 18
        }
      ]
    },
    {
      "cell_type": "markdown",
      "metadata": {
        "id": "Ym-5CXLp_Eq8",
        "colab_type": "text"
      },
      "source": [
        "**ROI Segmentation for multi images**\n",
        "\n",
        "*   Input: pathes of images and masks folders\n",
        "*   Output: ROIs and images with highlight"
      ]
    },
    {
      "cell_type": "code",
      "metadata": {
        "id": "V2d7QB0ItWxD",
        "colab_type": "code",
        "colab": {}
      },
      "source": [
        "import numpy as np\n",
        "import cv2\n",
        "def ROIsegement(mask_path,image_path,mask_name):\n",
        "  image_name = mask_name[0:mask_name.find(\"_\")]+\".png\"\n",
        "  images_dir = os.path.join(image_path, image_name)\n",
        "  masks_dir = os.path.join(mask_path, mask_name)\n",
        "  original_mask = cv2.imread(masks_dir)\n",
        "  original_image = cv2.imread(images_dir)\n",
        "  mask = original_mask.copy()\n",
        "  image = original_image.copy()\n",
        "  gray = cv2.cvtColor(mask, cv2.COLOR_BGR2GRAY)\n",
        "  blurred = cv2.GaussianBlur(gray, (3, 3), 0)\n",
        "  canny = cv2.Canny(blurred, 120, 255, 1)\n",
        "\n",
        "  # Find contours in the image\n",
        "  cnts = cv2.findContours(canny.copy(), cv2.RETR_TREE, cv2.CHAIN_APPROX_SIMPLE)\n",
        "  cnts = cnts[0] if len(cnts) == 2 else cnts[1]\n",
        "\n",
        "  # Obtain area for each contour\n",
        "  contour_sizes = [(cv2.contourArea(contour), contour) for contour in cnts]\n",
        "\n",
        "  # Find maximum contour and crop for ROI section\n",
        "  if len(contour_sizes) > 0:\n",
        "      largest_contour = max(contour_sizes, key=lambda x: x[0])[1]\n",
        "      x,y,w,h = cv2.boundingRect(largest_contour)\n",
        "      cv2.rectangle(image, (x, y), (x + w, y + h), (36,255,12), 2)\n",
        "      ROI = original_image[y:y+h, x:x+w]\n",
        "      ROI = cv2.resize(ROI,(512,512), interpolation=cv2.INTER_CUBIC) \n",
        "      ROI_name = mask_name[0:mask_name.find(\"_\")]+\"_ROI.png\"\n",
        "      ROI_dir = os.path.join(\"./data/ROI\", ROI_name) \n",
        "      cv2.imwrite(ROI_dir, ROI, [cv2.IMWRITE_PNG_COMPRESSION, 0])\n",
        "\n",
        "  #cv2.imshow(\"canny\", canny) \n",
        "  #cv2.imwrite('./data/test/canny.png', canny, [cv2.IMWRITE_PNG_COMPRESSION, 0])\n",
        "  #cv2.imshow(\"detected\", mask) \n",
        "  detect_name = mask_name[0:mask_name.find(\"_\")]+\"_detect.png\"\n",
        "  detect_dir = os.path.join(\"./data/detect\", detect_name)\n",
        "  cv2.imwrite(detect_dir, image, [cv2.IMWRITE_PNG_COMPRESSION, 0])\n",
        "  #cv2.waitKey(0)"
      ],
      "execution_count": null,
      "outputs": []
    },
    {
      "cell_type": "code",
      "metadata": {
        "id": "nYC_xjpJn-S3",
        "colab_type": "code",
        "colab": {}
      },
      "source": [
        "mask_path =\"./data/result_test\" \n",
        "image_path = \"./data/val/image\"\n",
        "for fileName in os.listdir(mask_path):\n",
        "  ROIsegement(mask_path,image_path,fileName)"
      ],
      "execution_count": null,
      "outputs": []
    },
    {
      "cell_type": "code",
      "metadata": {
        "id": "yyNSwqNH5DKY",
        "colab_type": "code",
        "colab": {}
      },
      "source": [
        ""
      ],
      "execution_count": null,
      "outputs": []
    }
  ]
}